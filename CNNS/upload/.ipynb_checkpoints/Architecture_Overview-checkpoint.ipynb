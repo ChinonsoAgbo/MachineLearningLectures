{
 "cells": [
  {
   "cell_type": "markdown",
   "id": "2915229f-87a2-438a-983e-36ec8603ed6e",
   "metadata": {},
   "source": [
    "# Selection of renowned CNN Architectures"
   ]
  },
  {
   "cell_type": "code",
   "execution_count": null,
   "id": "86a8a299-1433-4a4e-b537-76e01871b620",
   "metadata": {},
   "outputs": [],
   "source": [
    "from tensorflow import keras"
   ]
  },
  {
   "cell_type": "markdown",
   "id": "6e390bba-c3f2-43b4-a9ca-9ceb4ff9b8c0",
   "metadata": {},
   "source": [
    "## VGG 16"
   ]
  },
  {
   "cell_type": "code",
   "execution_count": null,
   "id": "94166b56-0f99-4e37-a92e-e19de50fa402",
   "metadata": {},
   "outputs": [],
   "source": [
    "vgg16 = keras.applications.VGG16(\n",
    "    weights=\"imagenet\",  \n",
    "    include_top=True,\n",
    ")\n",
    "vgg16.summary()\n",
    "vgg16.save(\"vgg.keras\")"
   ]
  },
  {
   "cell_type": "markdown",
   "id": "1c2cc278-2c30-4aa6-9d34-a23a9bb8183f",
   "metadata": {},
   "source": [
    "## Inception V3"
   ]
  },
  {
   "cell_type": "code",
   "execution_count": null,
   "id": "71a94096-ee4f-4987-bd38-04e61f4bda46",
   "metadata": {},
   "outputs": [],
   "source": [
    "inception = keras.applications.InceptionV3(\n",
    "    weights=\"imagenet\",  \n",
    "    include_top=True,\n",
    ")\n",
    "inception.summary()\n",
    "inception.save(\"inception.keras\")"
   ]
  },
  {
   "cell_type": "markdown",
   "id": "c8eada10-2536-4b74-bace-5ff7dc86e106",
   "metadata": {},
   "source": [
    "## ResNet"
   ]
  },
  {
   "cell_type": "code",
   "execution_count": null,
   "id": "f81fd8c3-1c89-42dc-8ee0-a934f50c6c1d",
   "metadata": {},
   "outputs": [],
   "source": [
    "resnet = keras.applications.ResNet152(\n",
    "    weights=\"imagenet\",  \n",
    "    include_top=True,\n",
    ")\n",
    "resnet.summary()\n",
    "resnet.save(\"resnet.keras\")"
   ]
  },
  {
   "cell_type": "markdown",
   "id": "7ffc13cd-eac3-4079-97d9-5cbb2f247f4c",
   "metadata": {},
   "source": [
    "## MobileNets"
   ]
  },
  {
   "cell_type": "code",
   "execution_count": null,
   "id": "63857bd0-75b6-497c-b00f-a0e9094d9f18",
   "metadata": {},
   "outputs": [],
   "source": [
    "mobilenet = keras.applications.MobileNet(\n",
    "    alpha=1.0,\n",
    "    weights=\"imagenet\",  \n",
    "    include_top=True,\n",
    ")\n",
    "mobilenet.summary()\n",
    "mobilenet.save(\"mobilenet.keras\")"
   ]
  },
  {
   "cell_type": "markdown",
   "id": "b542ff1e-ccdd-44b4-949b-0f35c2a9febd",
   "metadata": {},
   "source": [
    "## EfficientNet"
   ]
  },
  {
   "cell_type": "code",
   "execution_count": null,
   "id": "71faa6d3-1564-48a7-8be4-676353654a78",
   "metadata": {},
   "outputs": [],
   "source": [
    "efficientnet = keras.applications.EfficientNetV2B0(\n",
    "    weights=\"imagenet\",  \n",
    "    include_top=True,\n",
    ")\n",
    "efficientnet.summary()\n",
    "efficientnet.save(\"efficientnet.keras\")"
   ]
  },
  {
   "cell_type": "code",
   "execution_count": null,
   "id": "f7bee83d-fc87-4c51-a49f-6dfac634dfc8",
   "metadata": {},
   "outputs": [],
   "source": []
  }
 ],
 "metadata": {
  "kernelspec": {
   "display_name": "Python 3 (ipykernel)",
   "language": "python",
   "name": "python3"
  },
  "language_info": {
   "codemirror_mode": {
    "name": "ipython",
    "version": 3
   },
   "file_extension": ".py",
   "mimetype": "text/x-python",
   "name": "python",
   "nbconvert_exporter": "python",
   "pygments_lexer": "ipython3",
   "version": "3.10.11"
  }
 },
 "nbformat": 4,
 "nbformat_minor": 5
}
