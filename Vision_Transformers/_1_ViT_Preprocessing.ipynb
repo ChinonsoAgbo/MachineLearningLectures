{
 "cells": [
  {
   "cell_type": "markdown",
   "id": "027528a0-8620-434f-a675-f835f4b94dd0",
   "metadata": {},
   "source": [
    "# 1. ViT Preprocessing"
   ]
  },
  {
   "cell_type": "markdown",
   "id": "3a55f5e8-0d67-4962-93a8-f4ab8a4f2f5c",
   "metadata": {},
   "source": [
    "The goal of this tutorial is to set set up a basic Vision Transformer model from scrath using Pytorch in order to understand the basic principles and theoretical background. The tutorial combines concepts from https://medium.com/mlearning-ai/vision-transformers-from-scratch-pytorch-a-step-by-step-guide-96c3313c2e0c and https://medium.com/the-dl/transformers-from-scratch-in-pytorch-8777e346ca51. This first of three notebooks deals with the preprocessing of images."
   ]
  },
  {
   "cell_type": "code",
   "id": "54ae30a9-9f74-4dd7-b441-a9143c2ec2ac",
   "metadata": {
    "ExecuteTime": {
     "end_time": "2024-06-12T07:04:32.299060Z",
     "start_time": "2024-06-12T07:04:27.370765Z"
    }
   },
   "source": [
    "import matplotlib.pyplot as plt\n",
    "from matplotlib.offsetbox import OffsetImage, AnnotationBbox\n",
    "\n",
    "import numpy as np\n",
    "import torch\n",
    "from torch.utils.data import Dataset, DataLoader\n",
    "from torchvision import datasets\n",
    "from torchvision.transforms import ToTensor\n",
    "import matplotlib.pyplot as plt\n",
    "\n",
    "from torch import Tensor\n",
    "from torch import nn"
   ],
   "outputs": [],
   "execution_count": 2
  },
  {
   "cell_type": "markdown",
   "id": "5b7ae8d8-e635-4ea5-89d3-d25a7e7367cb",
   "metadata": {},
   "source": [
    "## MNIST Data Set Preparation"
   ]
  },
  {
   "cell_type": "markdown",
   "id": "3539aced-5c10-4f6b-85fd-dcd88f60f82e",
   "metadata": {},
   "source": [
    "Similar to the Tensorflow / Keras examples, we'll start out with the preperation of the data set. To keep things simple and comparable, the MNIST dat aset is used here again."
   ]
  },
  {
   "cell_type": "code",
   "id": "b6c0dd29-796c-43a0-b015-748ba7711f1a",
   "metadata": {
    "ExecuteTime": {
     "end_time": "2024-06-12T07:04:52.980992Z",
     "start_time": "2024-06-12T07:04:32.300076Z"
    }
   },
   "source": [
    "training_data = datasets.MNIST(\n",
    "    root=\"data\",\n",
    "    train=True,\n",
    "    download=True,\n",
    "    transform=ToTensor()\n",
    ")\n",
    "\n",
    "test_data = datasets.MNIST(\n",
    "    root=\"data\",\n",
    "    train=False,\n",
    "    download=True,\n",
    "    transform=ToTensor()\n",
    ")\n",
    "\n",
    "# INFO: The PyTorch uses a different tensor shape than Tensorflpow\n",
    "# Tensorflow: [batch_size, height, width, channels]\n",
    "# Pytorch: [batch_size, channels, height, width]\n",
    "train_loader = DataLoader(training_data, batch_size=32)\n",
    "x_sample, y_sample = next(iter(train_loader))\n",
    "image_shape = x_sample.shape\n",
    "print (f\"Image shape is: {image_shape} (batch size, channels, height, width)\")\n",
    "plt.matshow(x_sample[0][0], cmap=\"coolwarm\")\n",
    "plt.savefig(\"MNIST_input.png\", bbox_inches=\"tight\", dpi=200)\n",
    "plt.show()"
   ],
   "outputs": [
    {
     "name": "stdout",
     "output_type": "stream",
     "text": [
      "Downloading http://yann.lecun.com/exdb/mnist/train-images-idx3-ubyte.gz\n",
      "Failed to download (trying next):\n",
      "HTTP Error 403: Forbidden\n",
      "\n",
      "Downloading https://ossci-datasets.s3.amazonaws.com/mnist/train-images-idx3-ubyte.gz\n",
      "Downloading https://ossci-datasets.s3.amazonaws.com/mnist/train-images-idx3-ubyte.gz to data\\MNIST\\raw\\train-images-idx3-ubyte.gz\n"
     ]
    },
    {
     "name": "stderr",
     "output_type": "stream",
     "text": [
      "100%|██████████| 9912422/9912422 [00:11<00:00, 877052.45it/s] \n"
     ]
    },
    {
     "name": "stdout",
     "output_type": "stream",
     "text": [
      "Extracting data\\MNIST\\raw\\train-images-idx3-ubyte.gz to data\\MNIST\\raw\n",
      "\n",
      "Downloading http://yann.lecun.com/exdb/mnist/train-labels-idx1-ubyte.gz\n",
      "Failed to download (trying next):\n",
      "HTTP Error 403: Forbidden\n",
      "\n",
      "Downloading https://ossci-datasets.s3.amazonaws.com/mnist/train-labels-idx1-ubyte.gz\n",
      "Downloading https://ossci-datasets.s3.amazonaws.com/mnist/train-labels-idx1-ubyte.gz to data\\MNIST\\raw\\train-labels-idx1-ubyte.gz\n"
     ]
    },
    {
     "name": "stderr",
     "output_type": "stream",
     "text": [
      "100%|██████████| 28881/28881 [00:00<00:00, 140256.76it/s]\n"
     ]
    },
    {
     "name": "stdout",
     "output_type": "stream",
     "text": [
      "Extracting data\\MNIST\\raw\\train-labels-idx1-ubyte.gz to data\\MNIST\\raw\n",
      "\n",
      "Downloading http://yann.lecun.com/exdb/mnist/t10k-images-idx3-ubyte.gz\n",
      "Failed to download (trying next):\n",
      "HTTP Error 403: Forbidden\n",
      "\n",
      "Downloading https://ossci-datasets.s3.amazonaws.com/mnist/t10k-images-idx3-ubyte.gz\n",
      "Downloading https://ossci-datasets.s3.amazonaws.com/mnist/t10k-images-idx3-ubyte.gz to data\\MNIST\\raw\\t10k-images-idx3-ubyte.gz\n"
     ]
    },
    {
     "name": "stderr",
     "output_type": "stream",
     "text": [
      "100%|██████████| 1648877/1648877 [00:02<00:00, 668597.02it/s]\n"
     ]
    },
    {
     "name": "stdout",
     "output_type": "stream",
     "text": [
      "Extracting data\\MNIST\\raw\\t10k-images-idx3-ubyte.gz to data\\MNIST\\raw\n",
      "\n",
      "Downloading http://yann.lecun.com/exdb/mnist/t10k-labels-idx1-ubyte.gz\n",
      "Failed to download (trying next):\n",
      "HTTP Error 403: Forbidden\n",
      "\n",
      "Downloading https://ossci-datasets.s3.amazonaws.com/mnist/t10k-labels-idx1-ubyte.gz\n",
      "Downloading https://ossci-datasets.s3.amazonaws.com/mnist/t10k-labels-idx1-ubyte.gz to data\\MNIST\\raw\\t10k-labels-idx1-ubyte.gz\n"
     ]
    },
    {
     "name": "stderr",
     "output_type": "stream",
     "text": [
      "100%|██████████| 4542/4542 [00:00<00:00, 4570664.29it/s]\n"
     ]
    },
    {
     "name": "stdout",
     "output_type": "stream",
     "text": [
      "Extracting data\\MNIST\\raw\\t10k-labels-idx1-ubyte.gz to data\\MNIST\\raw\n",
      "\n",
      "Image shape is: torch.Size([32, 1, 28, 28]) (batch size, channels, height, width)\n"
     ]
    },
    {
     "data": {
      "text/plain": [
       "<Figure size 480x480 with 1 Axes>"
      ],
      "image/png": "[encoded data removed]"
     },
     "metadata": {},
     "output_type": "display_data"
    }
   ],
   "execution_count": 3
  },
  {
   "cell_type": "markdown",
   "id": "c3588681-3043-4457-9504-e4eb97fd8506",
   "metadata": {},
   "source": [
    "## Patchifier"
   ]
  },
  {
   "cell_type": "markdown",
   "id": "a8fd9ed6-1884-4286-bee7-346f886f101b",
   "metadata": {},
   "source": [
    "Firstly, all images have to be divided into patches for the following embedding. We'll generate a class that inherits from nn.Module which takes care of most deep learning related operations in the background. We'll only define the necessery parameters in the __init__ and the forward pass operations when the module is called. Pytorch models can be assembled using nn.Modules"
   ]
  },
  {
   "cell_type": "code",
   "id": "a8d22990-de9c-4cff-9f93-4447a5dc7145",
   "metadata": {
    "ExecuteTime": {
     "end_time": "2024-06-12T07:04:52.990222Z",
     "start_time": "2024-06-12T07:04:52.982009Z"
    }
   },
   "source": [
    "class Patchifyer(nn.Module):\n",
    "    \"\"\"\n",
    "    A class to handle patchifying images, derived from nn.Module.\n",
    "    \n",
    "    Attributes:\n",
    "        channels (int): Number of channels in the input images.\n",
    "        p_size (int): Size of the patches the images will be divided into.\n",
    "    \"\"\"\n",
    "    def __init__(self, image_shape, p_size):\n",
    "        \"\"\"\n",
    "        Initialize the Patchifyer.\n",
    "\n",
    "        Args:\n",
    "            image_shape (tuple): Shape of the input images (N, C, H, W).\n",
    "            p_size (int): Size of the patches.\n",
    "        \"\"\"\n",
    "        super().__init__() # TODO somit kann man die eltern klass initializieren \n",
    "        self.channels = image_shape[1]\n",
    "        self.p_size = p_size\n",
    "        \n",
    "    def forward(self, images):\n",
    "        \"\"\"\n",
    "        Forward pass to patchify the input images.\n",
    "        This method is used when the class is called.\n",
    "\n",
    "        Args:\n",
    "            images (tensor): A batch of images.\n",
    "        Returns:\n",
    "            Tensor: Patchified images.\n",
    "        \"\"\"\n",
    "        patches = images.unfold(2, self.p_size, self.p_size).unfold(3, self.p_size, self.p_size)\n",
    "        patches = patches.reshape(images.shape[0], -1, self.channels, self.p_size, self.p_size)\n",
    "        return patches"
   ],
   "outputs": [],
   "execution_count": 4
  },
  {
   "cell_type": "markdown",
   "id": "514d1e8d-34c0-4496-994b-1c2f2ad89ce4",
   "metadata": {},
   "source": [
    "This is how the Patchifyier works on the above example image."
   ]
  },
  {
   "cell_type": "code",
   "id": "f2845f66-d9ef-43eb-b926-0f2bcd4ed4ef",
   "metadata": {
    "ExecuteTime": {
     "end_time": "2024-06-12T07:04:55.399911Z",
     "start_time": "2024-06-12T07:04:52.992234Z"
    }
   },
   "source": [
    "# We'll divide the images into ptches of seven pixels size resulting in 4x4=16 patches\n",
    "patchify = Patchifyer(x_sample.shape, p_size=7)\n",
    "patch_data = patchify(x_sample) # TODO: Somit wurde the forward auufgerung con der patchify(_) aber forward!\n",
    "patch_shape = patch_data.shape\n",
    "print (f\"Shape after patchifying: {patch_shape} (batch size, number of patches, channels, patch height, patch width)\")\n",
    "\n",
    "fig, axes = plt.subplots(4, 4, sharex=True, sharey=True)\n",
    "fig.set_figwidth(6)\n",
    "fig.set_figheight(6)\n",
    "\n",
    "for (i, j), ax in np.ndenumerate(axes):\n",
    "    ax.matshow(patch_data[0][i*4+j, 0, :, :], cmap=\"coolwarm\")\n",
    "    ax.xaxis.tick_bottom()\n",
    "\n",
    "plt.savefig(\"MNIST_patchified.png\", bbox_inches=\"tight\", dpi=200)"
   ],
   "outputs": [
    {
     "name": "stdout",
     "output_type": "stream",
     "text": [
      "Shape after patchifying: torch.Size([32, 16, 1, 7, 7]) (batch size, number of patches, channels, patch height, patch width)\n"
     ]
    },
    {
     "data": {
      "text/plain": [
       "<Figure size 600x600 with 16 Axes>"
      ],
      "image/png": "[encoded data removed]"
     },
     "metadata": {},
     "output_type": "display_data"
    }
   ],
   "execution_count": 5
  },
  {
   "cell_type": "code",
   "id": "ac02a86d-8c2a-46cd-a4a2-9bee62b8afad",
   "metadata": {
    "ExecuteTime": {
     "end_time": "2024-06-12T07:04:55.409209Z",
     "start_time": "2024-06-12T07:04:55.401011Z"
    }
   },
   "source": [
    "class LinearEmbedding(nn.Module):\n",
    "    \"\"\"\n",
    "    A class for linear embedding of image patches, derived from nn.Module.\n",
    "\n",
    "    Attributes:\n",
    "        in_dimension (int): Dimension of input data.\n",
    "        embedded_dimension (int): Dimension of the output embedded data.\n",
    "    \"\"\"\n",
    "    def __init__(self, in_dimension, embedded_dimension):\n",
    "        \"\"\"\n",
    "        Initialize the LinearEmbedding.\n",
    "\n",
    "        Args:\n",
    "            in_dimension (int): Dimension of each flattened patch.\n",
    "            embedded_dimension (int): Desired dimension of the embedded vectors.\n",
    "        \"\"\"\n",
    "        super().__init__()\n",
    "        self.in_dimension = in_dimension\n",
    "        self.embedded_dimension = embedded_dimension\n",
    "\n",
    "        self.embedding = nn.Linear(self.in_dimension, self.embedded_dimension)\n",
    "\n",
    "    def forward(self, patches):\n",
    "        \"\"\"\n",
    "        Forward pass to embed the input patches.\n",
    "\n",
    "        Args:\n",
    "            patches (tensor): A batch of image patches.\n",
    "        Returns:\n",
    "            Tensor: Embedded representation of input patches.\n",
    "        \"\"\"\n",
    "        flattened_data = patches.flatten(start_dim=2) # hier werden die diemensionen flach gemacht \n",
    "        tokens = self.embedding(flattened_data)\n",
    "        return tokens"
   ],
   "outputs": [],
   "execution_count": 6
  },
  {
   "cell_type": "markdown",
   "id": "eb96b89f-fa71-43f6-b955-bb68c010caf5",
   "metadata": {},
   "source": [
    "We could embed our patched images in just two dimension in order to plot them. In the application the embedded space is of mauch higher dimension of course. For now the weights of the embedding layer are initialized randomly. Later they will be trained with the rest of the ViT.\n",
    "\n",
    "Through the embedding each image patch can be represented by a set of numbers. Once the patches are embedded, they can be treated similarly to the language tokens of the original NLP Transformer. Hence, the embedded image patches are often referred to as tokens, too."
   ]
  },
  {
   "cell_type": "code",
   "id": "b90d7e61-2d59-4197-aeff-67710dce152e",
   "metadata": {
    "ExecuteTime": {
     "end_time": "2024-06-12T07:04:55.649321Z",
     "start_time": "2024-06-12T07:04:55.410323Z"
    }
   },
   "source": [
    "tokenizer = LinearEmbedding(patch_data.shape[-1]**2, 2) # todo: hier projektieren wir alles in 2 dimensiion\n",
    "tokens = tokenizer(patch_data)\n",
    "print(f\"Shape of image tokens after the embedding: {tokens.shape} (batch size, number of patches / tokens, embedded dimension)\")\n",
    "\n",
    "# torch.Size([32, 16, 2]) : "
   ],
   "outputs": [
    {
     "name": "stdout",
     "output_type": "stream",
     "text": [
      "Shape of image tokens after the embedding: torch.Size([32, 16, 2]) (batch size, number of patches / tokens, embedded dimension)\n"
     ]
    }
   ],
   "execution_count": 7
  },
  {
   "metadata": {},
   "cell_type": "code",
   "outputs": [],
   "execution_count": null,
   "source": "",
   "id": "1ee0702f6e46b959"
  },
  {
   "cell_type": "markdown",
   "id": "10e1bae2-ca94-4d8d-963c-53bf42427f23",
   "metadata": {},
   "source": [
    "Visualizing the two embedded dimensions. Again, in real applications the embedded dimension is much higher than here and the weights are trained such that the embedded representation is much more meaningful."
   ]
  },
  {
   "cell_type": "code",
   "id": "175e28cd-0ff6-4336-9991-9ee77e553c15",
   "metadata": {
    "ExecuteTime": {
     "end_time": "2024-06-12T07:04:56.024353Z",
     "start_time": "2024-06-12T07:04:55.650330Z"
    }
   },
   "source": [
    "def imscatter(x, y, images, ax=None, zoom=1):\n",
    "    if ax is None:\n",
    "        ax = plt.gca()\n",
    "    digits = list()\n",
    "    for x0, y0, im in zip(x, y, images):\n",
    "        im = OffsetImage(im, zoom=zoom, cmap=\"coolwarm\")\n",
    "        ab = AnnotationBbox(im, (x0, y0), xycoords='data', frameon=False)\n",
    "        digits.append(ax.add_artist(ab))\n",
    "    ax.update_datalim(np.column_stack([x, y]))\n",
    "    ax.autoscale()\n",
    "    return digits\n",
    "\n",
    "example_tokens = tokens[0].detach()\n",
    "example_images = patch_data[0, :, 0, ...]\n",
    "fig, ax = plt.subplots()\n",
    "imscatter(example_tokens[:, 0],\n",
    "          example_tokens[:, 1],\n",
    "          example_images,\n",
    "          zoom=5,\n",
    "          ax=ax)\n",
    "ax.set_xlabel(\"1st Embedded Dimension\")\n",
    "ax.set_ylabel(\"2nd Embedded Dimension\")\n",
    "plt.savefig(\"MNIST_embedded.png\", bbox_inches=\"tight\", dpi=200)\n",
    "plt.show()\n",
    "# bis jetzt noch random für die klass token "
   ],
   "outputs": [
    {
     "data": {
      "text/plain": [
       "<Figure size 640x480 with 1 Axes>"
      ],
      "image/png": "[encoded data removed]"
     },
     "metadata": {},
     "output_type": "display_data"
    }
   ],
   "execution_count": 8
  },
  {
   "cell_type": "markdown",
   "id": "33f148d7-7b20-4e13-a79c-b42ab3a9f6db",
   "metadata": {},
   "source": [
    "## Adding a Learnable Class Token"
   ]
  },
  {
   "cell_type": "markdown",
   "id": "6e4eed46-43fb-4c36-9fb8-1684730193cc",
   "metadata": {},
   "source": [
    "ViT are sequence-to-sequence analyzer by their roots. In order to perform a classification task we need to add a learnable token to each input image in the batch. This token will be trained to contain classification logits in the end and will be read out by a final layer."
   ]
  },
  {
   "cell_type": "code",
   "id": "e81393cc-7510-426f-aeaa-c477673412c9",
   "metadata": {
    "ExecuteTime": {
     "end_time": "2024-06-12T07:04:56.040046Z",
     "start_time": "2024-06-12T07:04:56.026374Z"
    }
   },
   "source": [
    "print(f\"Shape of image tokens: {tokens.shape}\")\n",
    "\n",
    "# Generating a class token for each image in the batch\n",
    "class_token = nn.Parameter(torch.rand(32, 1, 2))\n",
    "print(f\"Shape of class tokens: {class_token.shape}\")\n",
    "\n",
    "# The class tokens are concatenated to the image tokens\n",
    "# and increases the the token dimension by one (e.g. 17: 16 image tokens + 1 class token each)\n",
    "result_tokens = torch.cat((tokens, class_token), dim=1) # todo hier hängen wir die token und class tokken zusammen \n",
    "print(f\"Resulting shape for the concatenated class tokens: {result_tokens.shape}\")"
   ],
   "outputs": [
    {
     "name": "stdout",
     "output_type": "stream",
     "text": [
      "Shape of image tokens: torch.Size([32, 16, 2])\n",
      "Shape of class tokens: torch.Size([32, 1, 2])\n",
      "Resulting shape for the concatenated class tokens: torch.Size([32, 17, 2])\n"
     ]
    }
   ],
   "execution_count": 9
  },
  {
   "cell_type": "markdown",
   "id": "a304b8cc-69d4-46de-aed3-a117d1f4625b",
   "metadata": {},
   "source": [
    "## Positional Encoding'"
   ]
  },
  {
   "cell_type": "markdown",
   "id": "95185d86-e1aa-4ff3-9d1f-6ad05f8d6402",
   "metadata": {},
   "source": [
    "Tranformers calculate all combinations of similarities between the patches / tokens and would loose positional information in the process. The position of a patch / token can however contain relevant information for the classification task. To prevent that loss of positional information, we superimpose a unique, position-sensitive pattern on top of each token. In this way the position of each token in the original image is encoded in the token."
   ]
  },
  {
   "cell_type": "code",
   "id": "158ec466-e1ac-441f-8840-2843b32876f0",
   "metadata": {
    "ExecuteTime": {
     "end_time": "2024-06-12T07:04:56.338004Z",
     "start_time": "2024-06-12T07:04:56.043056Z"
    }
   },
   "source": [
    "def get_positional_embeddings(sequence_length, embedded_dimension):\n",
    "    \"\"\"\n",
    "    Generate positional embeddings for a sequence.\n",
    "    The embeddings are generated using alternating sine and cosine functions \n",
    "    of different frequencies.\n",
    "\n",
    "    Args:\n",
    "        sequence_length (int): Length of the sequence to generate embeddings for.\n",
    "        embedded_dimension (int): Dimensionality of the embeddings.\n",
    "\n",
    "    Returns:\n",
    "        Tensor: A tensor of shape (sequence_length, d) containing \n",
    "                he positional embeddings.\n",
    "    \"\"\"\n",
    "    result = torch.ones(sequence_length, embedded_dimension)\n",
    "    for i in range(sequence_length):\n",
    "        for j in range(embedded_dimension):\n",
    "            result[i][j] = np.sin(i / (100 ** (j / embedded_dimension))) if j % 2 == 0 else np.cos(i / (100 ** ((j - 1) / embedded_dimension)))\n",
    "    return result\n",
    "\n",
    "# plt.imshow(get_positional_embeddings(4, 8), cmap=\"coolwarm\", interpolation=\"nearest\")\n",
    "plt.imshow(get_positional_embeddings(128, 128), cmap=\"coolwarm\", interpolation=\"nearest\")\n",
    "\n",
    "plt.xlabel(\"Embedded Dimension\")\n",
    "plt.ylabel(\"Patch Number\")\n",
    "plt.savefig(\"pos_encoding.png\", bbox_inches=\"tight\", dpi=200)\n",
    "plt.show()"
   ],
   "outputs": [
    {
     "data": {
      "text/plain": [
       "<Figure size 640x480 with 1 Axes>"
      ],
      "image/png": "[encoded data removed]"
     },
     "metadata": {},
     "output_type": "display_data"
    }
   ],
   "execution_count": 10
  },
  {
   "cell_type": "markdown",
   "id": "bd22db3c-47fc-4543-ba63-cb7c58c58bb2",
   "metadata": {},
   "source": [
    "If we plot only the positional encoding in two dimensions, without any underlying data embedding, it becomes a little clearer, that the positional encodiong projects all patches onto a unit circle, and thus assings each patch a unique position."
   ]
  },
  {
   "cell_type": "code",
   "id": "84c61b36-fc31-44d2-ab89-c3ef254b50af",
   "metadata": {
    "ExecuteTime": {
     "end_time": "2024-06-12T07:04:56.628016Z",
     "start_time": "2024-06-12T07:04:56.341020Z"
    }
   },
   "source": [
    "encoding_2d = get_positional_embeddings(128, 2)\n",
    "plt.scatter(encoding_2d[:, 0], encoding_2d[:, 1])\n",
    "\n",
    "plt.xlabel(\"1st Embedded Dimension\")\n",
    "plt.ylabel(\"2nd Embedded Dimension\")\n",
    "plt.savefig(\"pos_encoding_2D.png\", bbox_inches=\"tight\", dpi=200)\n",
    "plt.show()"
   ],
   "outputs": [
    {
     "data": {
      "text/plain": [
       "<Figure size 640x480 with 1 Axes>"
      ],
      "image/png": "[encoded data removed]"
     },
     "metadata": {},
     "output_type": "display_data"
    }
   ],
   "execution_count": 11
  },
  {
   "cell_type": "markdown",
   "id": "747bc07a-7ad2-44fd-97ae-ddf75304f877",
   "metadata": {},
   "source": [
    "## Assembling all parts"
   ]
  },
  {
   "cell_type": "markdown",
   "id": "dd6693fb-9ac5-42ef-9cf0-07c7566d666d",
   "metadata": {},
   "source": [
    "Now all necessary preprocessing modules and functions are defined. We'll assemble them in another nn.Module for later use."
   ]
  },
  {
   "cell_type": "code",
   "id": "c4204c84-b396-4724-9b5b-ada056e3b609",
   "metadata": {
    "ExecuteTime": {
     "end_time": "2024-06-12T07:04:56.642868Z",
     "start_time": "2024-06-12T07:04:56.631026Z"
    }
   },
   "source": [
    "class VitPreprocessor(nn.Module):\n",
    "    \"\"\"\n",
    "    A class for preprocessing images for Vision Transformer (ViT), derived from nn.Module.\n",
    "    It includes patchifying the images, applying linear embedding, adding a learnable \n",
    "    classification token, and adding positional encoding.\n",
    "\n",
    "    Attributes:\n",
    "        image_shape (tuple): Shape of the input images.\n",
    "        p_size (int): Size of the patches.\n",
    "        embedded_dimension (int): Dimension of the embedded patches.\n",
    "        n_patches (int): Number of patches per image.\n",
    "        patchifier (Patchifyer): Patchifying layer.\n",
    "        tokenizer (LinearEmbedding): Linear embedding layer.\n",
    "        class_token (nn.Parameter): Learnable classification token.\n",
    "        positional_embedding (torch.Tensor): Positional embeddings.\n",
    "    \"\"\"\n",
    "    def __init__(self, image_shape, p_size, embedded_dimension):\n",
    "        \"\"\"\n",
    "        Initialize the VitPreprocessor.\n",
    "\n",
    "        Args:\n",
    "            image_shape (tuple): Shape of the input images (N, C, H, W).\n",
    "            p_size (int): Size of the patches each image is divided into.\n",
    "            embedded_dimension (int): Dimension of the embeddings after linear transformation.\n",
    "        \"\"\"\n",
    "        super().__init__()\n",
    "        self.image_shape = image_shape\n",
    "        self.channels = image_shape[1]\n",
    "        self.embedded_dimension = embedded_dimension\n",
    "        self.p_size = p_size\n",
    "        self.n_patches = (self.image_shape[2] // self.p_size) ** 2\n",
    "\n",
    "        # 1) Patchify Images\n",
    "        self.patchifer = Patchifyer(self.image_shape, self.p_size)\n",
    "        \n",
    "        # 2) Linear Embedding\n",
    "        self.tokenizer = LinearEmbedding(self.p_size ** 2, self.embedded_dimension)\n",
    "\n",
    "        # 3) Adding a learnable classifiation token\n",
    "        self.class_token = nn.Parameter(torch.rand(1, 1, self.embedded_dimension))\n",
    "\n",
    "        # 4) Positional Econding\n",
    "        self.positional_embedding = get_positional_embeddings(self.n_patches + 1, self.embedded_dimension)\n",
    "\n",
    "    def forward(self, images):\n",
    "        \"\"\"\n",
    "        Forward pass of the VitPreprocessor.\n",
    "\n",
    "        Args:\n",
    "            images (torch.Tensor): A batch of images.\n",
    "\n",
    "        Returns:\n",
    "            torch.Tensor: Processed tokens ready for the Transformer model.\n",
    "        \"\"\"\n",
    "        patches = self.patchifer(images)\n",
    "        tokens = self.tokenizer(patches)\n",
    "    \n",
    "        # Adding classification token to the tokens\n",
    "        batch_class_token = self.class_token.repeat(images.shape[0], 1, 1) #todo wir erzeugen eine klass tokem und wirderholen es \n",
    "        tokens = torch.cat((tokens, batch_class_token), dim=1)\n",
    "    \n",
    "        # Adding positional embedding\n",
    "        positional_embedding = self.positional_embedding.repeat(images.shape[0], 1, 1)\n",
    "        out = tokens + self.positional_embedding\n",
    "        return out"
   ],
   "outputs": [],
   "execution_count": 12
  },
  {
   "cell_type": "markdown",
   "id": "b24c7709-73d4-455a-8e3b-eed123c53437",
   "metadata": {},
   "source": [
    "## Example Processing"
   ]
  },
  {
   "cell_type": "markdown",
   "id": "443ad7b1-b90b-4bc9-825b-5edaa078e234",
   "metadata": {},
   "source": [
    "Let's visualize our result. We'll process an example batch through the whole preprocessing pipline and visualize the results. Please note how the patches have changed their position in the embedded space due to the positional encoding."
   ]
  },
  {
   "cell_type": "code",
   "id": "87c69cd2-5133-4f4c-a4de-9a13f281faeb",
   "metadata": {
    "ExecuteTime": {
     "end_time": "2024-06-12T07:04:56.996291Z",
     "start_time": "2024-06-12T07:04:56.643971Z"
    }
   },
   "source": [
    "vit_preprocessor = VitPreprocessor(x_sample.shape, p_size=7, embedded_dimension=2)\n",
    "vit_input = vit_preprocessor(x_sample)\n",
    "\n",
    "# In Pytorch we can extract values from a computational graph at inference time by calling the .numpy() method.\n",
    "# Pytorch contains modules, however, that automatically trace tensors and calculate gradients for backpropagation.\n",
    "# If we only want to read out the values in a tensor that requires gradients,\n",
    "# we need to detach the tensor from that graph. Thus, whatever we'll do with the values, it doesn't influence the grandients.\n",
    "# To that end use detach() to generate a copy of the tensor containing the values that exists outside the model graph.\n",
    "example_tokens = vit_input[0].detach().numpy()\n",
    "example_images = patch_data[0, :, 0, ...]\n",
    "fig, ax = plt.subplots()\n",
    "imscatter(example_tokens[:, 0],\n",
    "          example_tokens[:, 1],\n",
    "          example_images,\n",
    "          zoom=5,\n",
    "          ax=ax)\n",
    "ax.set_xlabel(\"1st Embedded Dimension\")\n",
    "ax.set_ylabel(\"2nd Embedded Dimension\")\n",
    "plt.savefig(\"MNIST_embedded_enc.png\", bbox_inches=\"tight\", dpi=200)\n",
    "plt.show()"
   ],
   "outputs": [
    {
     "data": {
      "text/plain": [
       "<Figure size 640x480 with 1 Axes>"
      ],
      "image/png": "[encoded data removed]"
     },
     "metadata": {},
     "output_type": "display_data"
    }
   ],
   "execution_count": 13
  },
  {
   "cell_type": "code",
   "id": "0c74011a-6878-4a0f-9c39-3b55ef089389",
   "metadata": {
    "ExecuteTime": {
     "end_time": "2024-06-12T07:04:57.001194Z",
     "start_time": "2024-06-12T07:04:56.998308Z"
    }
   },
   "source": [],
   "outputs": [],
   "execution_count": 13
  },
  {
   "cell_type": "code",
   "id": "5c04a86d-33c3-4054-b87e-f7aab9f386c8",
   "metadata": {
    "ExecuteTime": {
     "end_time": "2024-06-12T07:04:57.007014Z",
     "start_time": "2024-06-12T07:04:57.004208Z"
    }
   },
   "source": [],
   "outputs": [],
   "execution_count": 13
  }
 ],
 "metadata": {
  "kernelspec": {
   "display_name": "Python 3 (ipykernel)",
   "language": "python",
   "name": "python3"
  },
  "language_info": {
   "codemirror_mode": {
    "name": "ipython",
    "version": 3
   },
   "file_extension": ".py",
   "mimetype": "text/x-python",
   "name": "python",
   "nbconvert_exporter": "python",
   "pygments_lexer": "ipython3",
   "version": "3.10.11"
  }
 },
 "nbformat": 4,
 "nbformat_minor": 5
}
