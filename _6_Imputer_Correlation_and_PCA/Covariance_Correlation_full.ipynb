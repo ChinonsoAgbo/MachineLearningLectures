{
 "cells": [
  {
   "cell_type": "markdown",
   "id": "987783c7-63c5-411a-80ff-bd1800055aab",
   "metadata": {},
   "source": [
    "# Correlation"
   ]
  },
  {
   "cell_type": "code",
   "execution_count": null,
   "id": "50733b57-56e4-4570-8317-3136ee3e4ac0",
   "metadata": {},
   "outputs": [],
   "source": [
    "import matplotlib.pyplot as plt\n",
    "from sklearn.preprocessing import StandardScaler\n",
    "import pandas as pd\n",
    "import numpy as np"
   ]
  },
  {
   "cell_type": "code",
   "execution_count": null,
   "id": "38eb458e-d2f2-48d1-9a6a-172b2b68a959",
   "metadata": {},
   "outputs": [],
   "source": [
    "nations_data = pd.read_csv(\"preprocessed_nations_data.csv\")\n",
    "numerical_data = nations_data.select_dtypes(include=[np.float64])\n",
    "scaler = StandardScaler()\n",
    "scaled_data = pd.DataFrame()\n",
    "scaled_data[numerical_data.columns] = scaler.fit_transform(numerical_data)\n",
    "scaled_data.describe()"
   ]
  },
  {
   "cell_type": "markdown",
   "id": "f3ca8308-3df4-4a97-8212-2b0525c08f58",
   "metadata": {},
   "source": [
    "## Looking at Dependencies"
   ]
  },
  {
   "cell_type": "markdown",
   "id": "d5712d42-f999-49ae-9924-11f0635388ae",
   "metadata": {},
   "source": [
    "### Birth Rate vs. Neonatal Mortality Rate"
   ]
  },
  {
   "cell_type": "markdown",
   "id": "08dbbfe6-965d-41d0-b609-192aaf983a56",
   "metadata": {},
   "source": [
    "#### Variance\n",
    "Variance can be used to measure the scatter of a single feature"
   ]
  },
  {
   "cell_type": "code",
   "execution_count": null,
   "id": "e7249b06-e0d9-49c6-99c4-8e383f20355c",
   "metadata": {},
   "outputs": [],
   "source": [
    "data_sample = scaled_data.sample(frac=0.01, replace=False, random_state=1)\n",
    "calculation_sample = data_sample.sample(n=6, random_state=1)\n",
    "arbitrary_y_data = np.linspace(0, 1, num=len(data_sample))\n",
    "\n",
    "plt.hist(data_sample[\"birth_rate\"],\n",
    "         bins=10, density=True, color=\"#C3DED3\")\n",
    "plt.scatter(data_sample[\"birth_rate\"], arbitrary_y_data,\n",
    "            color=\"#266662\")\n",
    "\n",
    "plt.ylabel(\"Arbitrary Scale / Standardized Frequency\")\n",
    "plt.xlabel(\"Birth Rate Sample\")\n",
    "plt.savefig(\"variance_plot.png\", dpi=200)\n",
    "plt.show()\n",
    "\n",
    "print(\"Variance of birth rate data: \", np.var(data_sample[\"birth_rate\"]))\n",
    "print(\"Standard Deviation = Sqrt(Variance): \", np.std(data_sample[\"birth_rate\"]))"
   ]
  },
  {
   "cell_type": "markdown",
   "id": "42019776-d795-4bc8-825c-9351d04b6c33",
   "metadata": {},
   "source": [
    "#### Covariance\n",
    "Covariance can be used to measure the common scatter of two variables, and hence gives a measure of their statistical dependence."
   ]
  },
  {
   "cell_type": "code",
   "execution_count": null,
   "id": "38b81d33-6ba9-4d80-b3ee-4281433d23ee",
   "metadata": {},
   "outputs": [],
   "source": [
    "plt.scatter(data_sample[\"birth_rate\"], data_sample[\"neonat_mortal_rate\"],\n",
    "            marker=\".\", color=\"#266662\")\n",
    "plt.scatter(calculation_sample[\"birth_rate\"], calculation_sample[\"neonat_mortal_rate\"],\n",
    "            marker=\"x\", color=\"#ED5654\")\n",
    "plt.xlabel(\"Standardized Birth Rate\")\n",
    "plt.ylabel(\"Standardized Neonatal Mortality Rate\")\n",
    "\n",
    "plt.savefig(\"covariance_plot.png\", dpi=200)\n",
    "plt.show()"
   ]
  },
  {
   "cell_type": "markdown",
   "id": "6639f340-07f2-42bb-bb18-0b77d2ee921d",
   "metadata": {},
   "source": [
    "##### Calculation Example"
   ]
  },
  {
   "cell_type": "code",
   "execution_count": null,
   "id": "43cf6811-0a82-4dfa-88ce-6b8d1dab41c1",
   "metadata": {},
   "outputs": [],
   "source": [
    "birth_rate_calculation = calculation_sample[\"birth_rate\"].round(1)\n",
    "neonat_rate_calculation = calculation_sample[\"neonat_mortal_rate\"].round(1)\n",
    "\n",
    "plt.scatter(birth_rate_calculation, neonat_rate_calculation,\n",
    "            marker=\"x\", color=\"#ED5654\")\n",
    "plt.vlines(birth_rate_calculation.mean().round(1), neonat_rate_calculation.min(), neonat_rate_calculation.max(),\n",
    "          color=\"#9E5E9B\")\n",
    "plt.hlines(birth_rate_calculation.mean().round(1), birth_rate_calculation.min(), birth_rate_calculation.max(),\n",
    "          color=\"#266662\")\n",
    "\n",
    "plt.xlabel(\"Standardized Birth Rate\")\n",
    "plt.ylabel(\"Standardized Neonatal Mortality Rate\")\n",
    "plt.savefig(\"covariance_calculation.png\", dpi=200)\n",
    "plt.show()\n"
   ]
  },
  {
   "cell_type": "code",
   "execution_count": null,
   "id": "f0330207-d522-46c7-916a-0c677d647b72",
   "metadata": {},
   "outputs": [],
   "source": [
    "def covariance(x, y):\n",
    "    deviations_x = x - np.mean(x)\n",
    "    deviations_y = y - np.mean(y)\n",
    "    return 1/len(x) * np.sum(deviations_x * deviations_y)\n",
    "covariance_birth_neonat = covariance(data_sample[\"birth_rate\"], data_sample[\"neonat_mortal_rate\"])\n",
    "print(\"Covariance between Birth Rate and Neonatal Mortality Rate: \", covariance_birth_neonat)\n",
    "\n",
    "\n"
   ]
  },
  {
   "cell_type": "markdown",
   "id": "76e914fc-484b-4a1d-9e6f-836ab727474b",
   "metadata": {},
   "source": [
    "#### Pearson Correlation"
   ]
  },
  {
   "cell_type": "code",
   "execution_count": null,
   "id": "d5e330fb-521e-4414-adab-dd852027133a",
   "metadata": {},
   "outputs": [],
   "source": [
    "# to calculate the correlation, we divide the covariance by the standard deviation of the two features\n",
    "normalization = (np.std(data_sample[\"birth_rate\"]) * np.std(data_sample[\"neonat_mortal_rate\"]))\n",
    "correlation = covariance_birth_neonat / normalization\n",
    "\n",
    "plt.scatter(data_sample[\"birth_rate\"], data_sample[\"neonat_mortal_rate\"],\n",
    "            marker=\".\", color=\"#266662\")\n",
    "plt.scatter(calculation_sample[\"birth_rate\"], calculation_sample[\"neonat_mortal_rate\"],\n",
    "            marker=\"x\", color=\"#ED5654\")\n",
    "plt.plot(data_sample[\"birth_rate\"], correlation * data_sample[\"birth_rate\"], color=\"#266662\")\n",
    "\n",
    "plt.xlabel(\"Standardized Birth Rate\")\n",
    "plt.ylabel(\"Standardized Neonatal Mortality Rate\")\n",
    "plt.savefig(\"lin_corr.png\", dpi=200)\n",
    "plt.show()\n",
    "print(\"Correlation between Birth Rate and Neonatal Mortality Rate: \", correlation)\n"
   ]
  },
  {
   "cell_type": "markdown",
   "id": "3e6088cd-bb74-4dc1-ac41-6feedd7e6a21",
   "metadata": {},
   "source": [
    "#### Spearman Correlation\n",
    "Pearson correlation under estimates non-linear dependencies of features. Spearman Correlation is non-parametric correlation metric (does not assume a probability distribution of the data) and also works on ordinal scales. We'll investigate the standardized birthrate and the standardized GDP per capita."
   ]
  },
  {
   "cell_type": "code",
   "execution_count": null,
   "id": "47c4bf49-29e2-438d-98f9-f21ba2845544",
   "metadata": {},
   "outputs": [],
   "source": [
    "plt.scatter(data_sample[\"birth_rate\"], data_sample[\"gdp_percap\"],\n",
    "            marker=\".\", color=\"#266662\")\n",
    "plt.scatter(data_sample[\"birth_rate\"][calculation_sample.index], data_sample[\"gdp_percap\"][calculation_sample.index],\n",
    "            marker=\"x\", color=\"#ED5654\")\n",
    "\n",
    "plt.xlabel(\"Standardized Birth Rate\")\n",
    "plt.ylabel(\"Standardized GDP per Capita\")\n",
    "plt.savefig(\"birth_gdp.png\", dpi=200)\n",
    "\n",
    "plt.show()"
   ]
  },
  {
   "cell_type": "markdown",
   "id": "b8f97042-b308-4edc-a61e-ae58064fc4f3",
   "metadata": {},
   "source": [
    "Spearman correlation works like Pearson Correlation but uses the ranked values of the variables"
   ]
  },
  {
   "cell_type": "code",
   "execution_count": null,
   "id": "fec0cb8e-432a-4eed-8b63-d5c861bfef9e",
   "metadata": {},
   "outputs": [],
   "source": [
    "# neat little trick: using argsort twice returns the rank of a feature. It is however not very efficient.\n",
    "ranked_birth_rate = np.argsort(np.argsort(data_sample[\"birth_rate\"]))\n",
    "ranked_gdp = np.argsort(np.argsort(data_sample[\"gdp_percap\"]))\n",
    "ranked_covariance_birth_gdp = covariance(ranked_birth_rate, ranked_gdp)\n",
    "normalization = (np.std(ranked_birth_rate) * np.std(ranked_gdp))\n",
    "spearman_correlation = ranked_covariance_birth_gdp / normalization\n",
    "\n",
    "stand_birth_rate = (ranked_birth_rate - np.mean(ranked_birth_rate)) / np.std(ranked_birth_rate)\n",
    "stand_gdp = (ranked_gdp - np.mean(ranked_gdp)) / np.std(ranked_gdp)\n",
    "plt.scatter(ranked_birth_rate, ranked_gdp, marker=\"o\", color=\"#266662\")\n",
    "plt.scatter(ranked_birth_rate[calculation_sample.index], ranked_gdp[calculation_sample.index],\n",
    "            marker=\"x\", color=\"#ED5654\")\n",
    "\n",
    "\n",
    "plt.xlabel(\"Standardized Birth Rate Rank\")\n",
    "plt.ylabel(\"Standardized GDP per Capita Rank\")\n",
    "plt.savefig(\"ranked_plot.png\", dpi=200)\n",
    "plt.show()"
   ]
  },
  {
   "cell_type": "code",
   "execution_count": null,
   "id": "3c07a2bc-0efd-4992-a672-bd5006fcf77a",
   "metadata": {},
   "outputs": [],
   "source": [
    "plt.plot(stand_birth_rate, spearman_correlation * stand_birth_rate, color=\"#266662\")\n",
    "plt.scatter(stand_birth_rate, stand_gdp, marker=\"o\", color=\"#266662\")\n",
    "plt.xlabel(\"Ranked Standardized Birth Rate\")\n",
    "plt.ylabel(\"Ranked Standardized GDP per Capita\")\n",
    "plt.savefig(\"Spearman_corr.png\", dpi=200)\n",
    "plt.show()\n",
    "print(spearman_correlation)"
   ]
  },
  {
   "cell_type": "markdown",
   "id": "d36f96c5-5046-4bd6-a840-d079677b4ea2",
   "metadata": {},
   "source": [
    "### Korrelation Matrices\n",
    "To get an overview, it helps to plot all possible pairs of correlations in a matrix."
   ]
  },
  {
   "cell_type": "code",
   "execution_count": null,
   "id": "fc089b68-0aba-41d3-bbb2-a23af1012358",
   "metadata": {},
   "outputs": [],
   "source": [
    "# printing all pairs 2D scatter plots yields a good overview over the dependencies\n",
    "fig, axes = plt.subplots(6, 6, figsize=(10,10), sharey=True, sharex=True)\n",
    "plot_features = data_sample.columns\n",
    "\n",
    "for row_index, axes_row in enumerate(axes):\n",
    "    for column_index, ax in enumerate(axes_row):\n",
    "        ax.scatter(data_sample[plot_features[row_index]],\n",
    "                   data_sample[plot_features[column_index]],\n",
    "                   color=\"#266662\", marker=\".\")\n",
    "        if column_index == 0:\n",
    "            ax.set_ylabel(plot_features[row_index])\n",
    "        if row_index == 5:\n",
    "            ax.set_xlabel(plot_features[column_index])\n",
    "\n",
    "plt.savefig(\"all_plots.png\", dpi=200)\n",
    "plt.show()"
   ]
  },
  {
   "cell_type": "code",
   "execution_count": null,
   "id": "86acceac-6f83-436e-a643-2f4712d0c568",
   "metadata": {},
   "outputs": [],
   "source": [
    "#We'll plot a matrix for each of the methods discussed above\n",
    "fig, ax = plt.subplots(1, 3, figsize=(10,3), sharey=True)\n",
    "methods = [\"Covariance\", \"Pearson\", \"Spearman\"]\n",
    "matrix_list = list()\n",
    "matrix_list += [numerical_data.cov()]\n",
    "matrix_list += [numerical_data.corr(method=\"pearson\")]\n",
    "matrix_list += [numerical_data.corr(method=\"spearman\")]\n",
    "\n",
    "#loop over all three matrices\n",
    "for plot_index, matrix in enumerate(matrix_list):\n",
    "    \n",
    "    # We'll print the values of each correlation in matrix\n",
    "    for (x, y), value in np.ndenumerate(matrix):\n",
    "        \n",
    "        # Visualizing using the \"coolwarm\" color map\n",
    "        ax[plot_index].matshow(matrix, cmap=plt.get_cmap(\"coolwarm\")) \n",
    "        # printing values into the matrix cells\n",
    "        ax[plot_index].text(x, y, f\"{value:.1f}\", va=\"center\", ha=\"center\")\n",
    "        ax[plot_index].set_title(methods[plot_index])\n",
    "        ax[plot_index].set_xticks(range(len(numerical_data.columns)),\n",
    "                                  numerical_data.columns, rotation=90)\n",
    "        ax[plot_index].set_yticks(range(len(numerical_data.columns)),\n",
    "                                  numerical_data.columns)\n",
    "        \n",
    "plt.savefig(\"corralation_matrices.png\", dpi=200, bbox_inches='tight')\n",
    "plt.show()"
   ]
  },
  {
   "cell_type": "code",
   "execution_count": null,
   "id": "5a5c9bd5-e294-4cd6-805a-c2472c399c13",
   "metadata": {},
   "outputs": [],
   "source": [
    "matrix_list[1].values"
   ]
  },
  {
   "cell_type": "code",
   "execution_count": null,
   "id": "a66ca883-ea5c-4c4f-a564-dbfb9f79d529",
   "metadata": {},
   "outputs": [],
   "source": []
  }
 ],
 "metadata": {
  "kernelspec": {
   "display_name": "Python 3 (ipykernel)",
   "language": "python",
   "name": "python3"
  },
  "language_info": {
   "codemirror_mode": {
    "name": "ipython",
    "version": 3
   },
   "file_extension": ".py",
   "mimetype": "text/x-python",
   "name": "python",
   "nbconvert_exporter": "python",
   "pygments_lexer": "ipython3",
   "version": "3.10.11"
  }
 },
 "nbformat": 4,
 "nbformat_minor": 5
}
