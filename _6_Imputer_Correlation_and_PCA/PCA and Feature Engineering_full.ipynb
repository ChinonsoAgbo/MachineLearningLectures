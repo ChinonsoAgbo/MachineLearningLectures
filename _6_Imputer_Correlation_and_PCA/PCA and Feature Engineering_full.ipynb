{
 "cells": [
  {
   "cell_type": "markdown",
   "id": "4d8c1359-137e-4975-8da3-029983a523b8",
   "metadata": {},
   "source": [
    "# PCA Recipe"
   ]
  },
  {
   "cell_type": "code",
   "execution_count": null,
   "id": "4ffc847b-5d96-4951-8cbc-3f31d0ae8107",
   "metadata": {},
   "outputs": [],
   "source": [
    "import numpy as np\n",
    "import pandas as pd\n",
    "from matplotlib import pyplot as plt\n",
    "from matplotlib import colors\n",
    "from sklearn.datasets import load_iris\n",
    "from sklearn.preprocessing import StandardScaler"
   ]
  },
  {
   "cell_type": "code",
   "execution_count": null,
   "id": "12f08f58-bcb5-46b7-ad4d-64ff2a37c004",
   "metadata": {},
   "outputs": [],
   "source": [
    "dataset = load_iris(as_frame=True)\n",
    "features = dataset[\"data\"]\n",
    "target = dataset[\"target\"]\n",
    "features"
   ]
  },
  {
   "cell_type": "markdown",
   "id": "9fb2567f-ad99-46a0-abd4-7b78210b3de8",
   "metadata": {},
   "source": [
    "## 1. Scale Data"
   ]
  },
  {
   "cell_type": "code",
   "execution_count": null,
   "id": "c933cd05-b4e1-4140-bc68-73d139933662",
   "metadata": {},
   "outputs": [],
   "source": [
    "scaler = StandardScaler()\n",
    "scaled_features = pd.DataFrame()\n",
    "scaled_features[features.columns] = scaler.fit_transform(features)\n",
    "scaled_features_2d = scaled_features[[\"petal length (cm)\", \"petal width (cm)\"]]\n",
    "scaled_features_2d.describe()\n"
   ]
  },
  {
   "cell_type": "markdown",
   "id": "a08a0f1b-de81-41ef-86fe-1974cb71bff6",
   "metadata": {},
   "source": [
    "## 2. Calculate Covariance Matrix"
   ]
  },
  {
   "cell_type": "code",
   "execution_count": null,
   "id": "baa40c84-e6db-4204-b11c-f312efd2849c",
   "metadata": {},
   "outputs": [],
   "source": [
    "covariance = scaled_features_2d.cov()\n",
    "covariance"
   ]
  },
  {
   "cell_type": "markdown",
   "id": "c6c4bb40-64f5-47e9-9188-4730c3b0e0f0",
   "metadata": {},
   "source": [
    "## 3. Calculate Eigenvectors"
   ]
  },
  {
   "cell_type": "code",
   "execution_count": null,
   "id": "42e9cbe2-b74a-49d5-9d78-82edc20595e6",
   "metadata": {},
   "outputs": [],
   "source": [
    "eigenvalues, eigenvectors = np.linalg.eig(covariance)\n",
    "index_1st = np.argmax(eigenvalues)\n",
    "index_2st = np.argmin(eigenvalues)\n",
    "print(f\"First principal component's variance is: {eigenvalues[index_1st]}\")\n",
    "print(f\"Along new axis w_1 =\\n\",\n",
    "      f\"{eigenvectors[:, index_1st][0]} * petal length\\n\",\n",
    "      f\"+ {eigenvectors[:, index_1st][1]} * petal width\")\n",
    "\n",
    "cmap = colors.ListedColormap([\"#1D4D4A\", \"#ED5654\", \"#764674\"])\n",
    "plt.scatter(scaled_features_2d[\"petal length (cm)\"],\n",
    "                               scaled_features_2d[\"petal width (cm)\"],\n",
    "           c=target, cmap=cmap, label=\"Scaled Data\")\n",
    "# plotting the 1st peincipal component\n",
    "plt.plot(np.linspace(-2, 2, 2) * eigenvectors[:, index_1st][0],\n",
    "         np.linspace(-2, 2, 2) * eigenvectors[:, index_1st][1],\n",
    "         label=\"1st Principal Comonent\", color=\"#1D4D4A\")\n",
    "# plotting the 2st peincipal component\n",
    "plt.plot(np.linspace(-2, 2, 2) * eigenvectors[:, index_2st][0],\n",
    "        np.linspace(-2, 2, 2) * eigenvectors[:, index_2st][1],\n",
    "         label=\"2nd Principal Comonent\", color=\"#ED5654\")\n",
    "\n",
    "plt.xlabel(\"Petal Length (cm)\")\n",
    "plt.ylabel(\"Petal Width (cm)\")\n",
    "\n",
    "plt.legend()\n",
    "plt.savefig(\"1_and_2_PCs.png\", dpi=200)\n",
    "plt.show()"
   ]
  },
  {
   "cell_type": "markdown",
   "id": "710e2834-20b7-462a-aaf6-54a0a46b1273",
   "metadata": {},
   "source": [
    "## 4. Selecting First k Components"
   ]
  },
  {
   "cell_type": "code",
   "execution_count": null,
   "id": "0b3aaeea-d0a1-4217-bfba-0114b9d76235",
   "metadata": {},
   "outputs": [],
   "source": [
    "print(f\"The first principal component contains\",\n",
    "      f\"{eigenvalues[index_1st] * 100 / (eigenvalues[index_1st]+ eigenvalues[index_2st]):.1f}\",\n",
    "     \"percent of the total variance\\n\",\n",
    "     \"->The first component ist sufficient.\")"
   ]
  },
  {
   "cell_type": "markdown",
   "id": "c10f7a01-a3df-41ed-8085-ac715726b515",
   "metadata": {},
   "source": [
    "## 5. Construct projection Matrix\n",
    "The projection Matrix is already contained in eigenvectors"
   ]
  },
  {
   "cell_type": "markdown",
   "id": "74a299f0-7477-4f4e-a00f-e175258798cd",
   "metadata": {},
   "source": [
    "## 6. Project Data onto Principal Axes\n",
    "For visualization two axes will be displayed even though we'd only need one"
   ]
  },
  {
   "cell_type": "code",
   "execution_count": null,
   "id": "3198eef7-1e66-4aa6-bd7e-3ad07846a47d",
   "metadata": {},
   "outputs": [],
   "source": [
    "projected_features = pd.DataFrame()\n",
    "# Multiply the scaled features with the eigenvektor matrix\n",
    "projected_features[scaled_features_2d.columns] = np.matmul(scaled_features_2d, eigenvectors)\n",
    "\n",
    "cmap = colors.ListedColormap([\"#1D4D4A\", \"#ED5654\", \"#764674\"])\n",
    "plt.scatter(projected_features[\"petal length (cm)\"],\n",
    "                               projected_features[\"petal width (cm)\"],\n",
    "           c=target, cmap=cmap, label=\"Scaled Data\")\n",
    "\n",
    "plt.xlabel(f\"{eigenvectors[:, index_1st][0]:.2f} * Petal Length + {eigenvectors[:, index_1st][1]:.2f} * Petal Width\")\n",
    "plt.ylabel(f\"{eigenvectors[:, index_2st][0]:.2f} * Petal Length + {eigenvectors[:, index_2st][1]:.2f} * Petal Width\")\n",
    "plt.savefig(\"PCA_after_transform.png\", dpi=200)\n",
    "plt.show()"
   ]
  },
  {
   "cell_type": "markdown",
   "id": "c8910c04-4683-42f9-9a2b-4cfceda3a342",
   "metadata": {},
   "source": [
    "## Perform PCA with sklearn"
   ]
  },
  {
   "cell_type": "code",
   "execution_count": null,
   "id": "4dc85d3a-65e5-486a-b885-8a37b65058dd",
   "metadata": {},
   "outputs": [],
   "source": [
    "from sklearn.decomposition import PCA\n",
    "\n",
    "pca = PCA()\n",
    "pca.fit(scaled_features)\n",
    "\n",
    "plt.bar([\"PC 1\", \"PC 2\", \"PC 3\", \"PC 4\"], pca.explained_variance_ratio_,\n",
    "        color=\"#266662\")\n",
    "\n",
    "plt.savefig(\"PCA_explained_variance.png\", dpi=200)"
   ]
  },
  {
   "cell_type": "code",
   "execution_count": null,
   "id": "c4938b56-7811-4bb9-a079-4b466e44077c",
   "metadata": {},
   "outputs": [],
   "source": [
    "# Components 1 and 2 are already enouhg to explain the full feature space variance\n",
    "transformed_features = pca.transform(scaled_features)\n",
    "\n",
    "plt.scatter(transformed_features[:, 0], transformed_features[:, 1], c=target, cmap=cmap)\n",
    "\n",
    "plt.xlabel(\"First Principle Component\")\n",
    "plt.ylabel(\"Second Principle Component\")\n",
    "plt.savefig(\"PCA_full_iris.png\", dpi=200)\n",
    "plt.show()"
   ]
  },
  {
   "cell_type": "code",
   "execution_count": null,
   "id": "b68d0b36-5bec-429e-9f87-4160ea5da1f9",
   "metadata": {},
   "outputs": [],
   "source": []
  }
 ],
 "metadata": {
  "kernelspec": {
   "display_name": "Python 3 (ipykernel)",
   "language": "python",
   "name": "python3"
  },
  "language_info": {
   "codemirror_mode": {
    "name": "ipython",
    "version": 3
   },
   "file_extension": ".py",
   "mimetype": "text/x-python",
   "name": "python",
   "nbconvert_exporter": "python",
   "pygments_lexer": "ipython3",
   "version": "3.10.11"
  }
 },
 "nbformat": 4,
 "nbformat_minor": 5
}
