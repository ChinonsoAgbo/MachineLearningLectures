{
 "cells": [
  {
   "cell_type": "markdown",
   "id": "332b0640-454b-480f-a44e-e39dc247f4af",
   "metadata": {},
   "source": [
    "# Prepocessing and Imputing"
   ]
  },
  {
   "cell_type": "code",
   "execution_count": null,
   "id": "a26643c7-222c-44c2-8e5b-4b88632a951b",
   "metadata": {},
   "outputs": [],
   "source": [
    "import pandas as pd\n",
    "import warnings\n",
    "warnings.simplefilter(action='ignore')\n",
    "import matplotlib.pyplot as plt\n",
    "import numpy as np\n",
    "from sklearn.preprocessing import RobustScaler"
   ]
  },
  {
   "cell_type": "markdown",
   "id": "024de288-db66-4ca9-8bab-233b5cc95492",
   "metadata": {},
   "source": [
    "## Read data"
   ]
  },
  {
   "cell_type": "code",
   "execution_count": null,
   "id": "9a6761e5-3f79-49d5-bfb1-838790972813",
   "metadata": {},
   "outputs": [],
   "source": [
    "nations_data = pd.read_csv(\"nations.csv\")\n",
    "numerical_columns = [\"gdp_percap\",\n",
    "                     \"life_expect\",\n",
    "                     \"population\",\n",
    "                     \"birth_rate\",\n",
    "                     \"neonat_mortal_rate\"]\n",
    "nations_data"
   ]
  },
  {
   "cell_type": "markdown",
   "id": "3cece29f-5ea7-4278-b73b-9f3aed2b37e6",
   "metadata": {},
   "source": [
    "## Upgrade scales\n",
    "Higher order scales encode more information and are more useful to ML algorithms then lower order scales. It's worth checking if e.g. a nominal feature can be converted to ordinal or rational scales. This is the case for the income feature\n",
    "\n",
    "\"For the current 2023 fiscal year, low-income economies are defined as those with a GNI per capita, calculated using the World Bank Atlas method, of 1,085 or less in 2021; lower middle-income economies are those with a GNI per capita between 1,086 and 4,255; upper middle-income economies are those with a GNI per capita between 4,256 and 13,205; high-income economies are those with a GNI per capita of $13,205 or more.\"\n",
    "\n",
    "https://datahelpdesk.worldbank.org/knowledgebase/articles/906519-world-bank-country-and-lending-groups\n",
    "\n",
    "https://data.worldbank.org/indicator/NY.GNP.PCAP.CD?end=2021&locations=XD-XM-XN-XT-OE&most_recent_value_desc=false&start=1962&view=map&year=2021"
   ]
  },
  {
   "cell_type": "code",
   "execution_count": null,
   "id": "97999a57-69a4-40e1-85cb-8119206f6920",
   "metadata": {},
   "outputs": [],
   "source": [
    "nations_data[\"income\"].value_counts().plot.bar(color=\"#266662\")\n",
    "plt.show()"
   ]
  },
  {
   "cell_type": "code",
   "execution_count": null,
   "id": "631e67e9-362d-4cfe-9e45-dfd0c84278f9",
   "metadata": {},
   "outputs": [],
   "source": [
    "def replace_income(data):\n",
    "    data[\"income\"].replace(to_replace=[\"Low income\"], value=741, inplace=True)\n",
    "    data[\"income\"].replace(to_replace=[\"Lower middle income\"], value=2470, inplace=True)\n",
    "    data[\"income\"].replace(to_replace=[\"Upper middle income\"], value=10358, inplace=True)\n",
    "    data[\"income\"].replace(to_replace=[\"High income\"], value=48120, inplace=True)\n",
    "    data[\"income\"].replace(to_replace=[\"High income: OECD\"], value=42360, inplace=True)\n",
    "    data[\"income\"].astype(int)\n",
    "    \n",
    "    return data\n",
    "\n",
    "replace_income(nations_data)\n",
    "nations_data[\"income\"].plot.hist(color=\"#266662\")\n",
    "plt.xlabel(\"Average Gross National Income per Capita\")\n",
    "plt.show()\n",
    "\n",
    "numerical_columns += [\"income\"]"
   ]
  },
  {
   "cell_type": "markdown",
   "id": "0a6256b4-07b6-4753-b47c-1dcf5f0c0454",
   "metadata": {},
   "source": [
    "## Outlier Detektion\n",
    "Outliers can be detected by characterizing feature dirstributions or via machine learning algortihms (see e.g. https://scikit-learn.org/stable/modules/outlier_detection.html). Our apporach for now will be purely statistical, until we cover unsupervised method in the lectures."
   ]
  },
  {
   "cell_type": "code",
   "execution_count": null,
   "id": "38a88ea3-d317-47d5-83ae-36f4d3ea245d",
   "metadata": {},
   "outputs": [],
   "source": [
    "data_2014 = nations_data[\"year\"] == 2014\n",
    "nations_data[\"population\"][data_2014].plot.hist(bins=50, color=\"#266662\")\n",
    "plt.yscale(\"log\")\n",
    "plt.xlabel(\"Population\")\n",
    "plt.savefig(\"outlier_histo.png\", dpi=200)\n",
    "plt.show()"
   ]
  },
  {
   "cell_type": "code",
   "execution_count": null,
   "id": "83dacb78-a812-4eb3-add9-ff775e4491b7",
   "metadata": {},
   "outputs": [],
   "source": [
    "# determining mean and standard deviation of distribution\n",
    "# write a function to return data points of a series that deviate more than 5 sigma of their standard deviation\n",
    "# which countries are outside of the distribution?\n",
    "mean = nations_data[\"population\"][data_2014].mean()\n",
    "std = nations_data[\"population\"][data_2014].std()\n",
    "\n",
    "print(mean)\n",
    "print(std)\n",
    "def find_outliers(data, sigma=5):\n",
    "    mean = data.mean()\n",
    "    std = data.std()\n",
    "    is_outlier = np.abs(data) > mean + sigma * std\n",
    "    return data[is_outlier]\n",
    "\n",
    "outlier_index = find_outliers(nations_data[\"population\"][data_2014]).index\n",
    "print(nations_data.iloc[outlier_index])"
   ]
  },
  {
   "cell_type": "markdown",
   "id": "1260d268-cdfd-4680-9de7-0c088c40e4f0",
   "metadata": {},
   "source": [
    "## Scaling\n",
    "The numerical features have vastly different scales and distributions, hence we better apply robust scaling"
   ]
  },
  {
   "cell_type": "code",
   "execution_count": null,
   "id": "0983d3d8-e854-45c1-b47c-275a7c9d89d9",
   "metadata": {},
   "outputs": [],
   "source": [
    "nations_data[numerical_columns].plot.box()\n",
    "plt.title(\"Before Scaling\")\n",
    "plt.xticks(rotation=45)\n",
    "plt.yscale(\"log\")\n",
    "plt.show()"
   ]
  },
  {
   "cell_type": "code",
   "execution_count": null,
   "id": "1eb0e967-e8bc-4e60-8324-6efdb75e3717",
   "metadata": {},
   "outputs": [],
   "source": [
    "scaler = RobustScaler()\n",
    "nations_data[numerical_columns] = scaler.fit_transform(nations_data[numerical_columns])\n",
    "\n",
    "nations_data[numerical_columns].plot.box()\n",
    "plt.title(\"After Scaling\")\n",
    "plt.xticks(rotation=45)\n",
    "plt.ylim((-4, 4))\n",
    "plt.show()"
   ]
  },
  {
   "cell_type": "markdown",
   "id": "d6506bff-d2f1-499e-8940-3a8697c29be6",
   "metadata": {
    "tags": []
   },
   "source": [
    "## Check for missing values\n",
    "In this case, there are quite a few values missing. Dropping full rows is not a good option here, since that would delete several countries from the data set"
   ]
  },
  {
   "cell_type": "code",
   "execution_count": null,
   "id": "cd463268-ac48-4b5a-98d8-75c402010721",
   "metadata": {},
   "outputs": [],
   "source": [
    "nas = nations_data.isna()\n",
    "print(\"\\n Sum of NAs in data: \\n\", nas.sum())\n",
    "print(\"\\n Countries with NAs: \\n\", nations_data.loc[nas.any(axis=1), \"country\"].value_counts()[:5])"
   ]
  },
  {
   "cell_type": "markdown",
   "id": "b9953b0a-e8bf-4329-8357-3ff191e22339",
   "metadata": {},
   "source": [
    "## Imputation: Interpolation of Missing Values\n",
    "It is often advisible to impute missing data using other features instead of dropping them. First, several known values are dorpped to test the accuracy of imputed values"
   ]
  },
  {
   "cell_type": "code",
   "execution_count": null,
   "id": "4bc9c2ed-f233-4f75-97c8-bef3658c9e49",
   "metadata": {},
   "outputs": [],
   "source": [
    "impute_test_data = nations_data.dropna().copy()\n",
    "drop_values = impute_test_data[impute_test_data[\"country\"] == \"Germany\"].index\n",
    "impute_test_data[\"gdp_percap\"][drop_values] = np.nan\n",
    "print(impute_test_data.isna().sum())"
   ]
  },
  {
   "cell_type": "markdown",
   "id": "3e95b98a-c7bc-42d3-b2cd-b115f9f7eb83",
   "metadata": {},
   "source": [
    "Now impute the missing values using sklearn imputers"
   ]
  },
  {
   "cell_type": "code",
   "execution_count": null,
   "id": "bf042660-1250-4cbf-bbb6-bad1461ce4a6",
   "metadata": {},
   "outputs": [],
   "source": [
    "from sklearn.impute import SimpleImputer\n",
    "simple_imputer_data = pd.DataFrame()\n",
    "imputer = SimpleImputer(strategy='mean', add_indicator=True)\n",
    "simple_imputer_data[numerical_columns + [\"indicator\"]] = imputer.fit_transform(impute_test_data[numerical_columns])\n",
    "imputed_index = simple_imputer_data[simple_imputer_data[\"indicator\"] == 1.].index\n",
    "imputed_index"
   ]
  },
  {
   "cell_type": "code",
   "execution_count": null,
   "id": "b894676e-4a4a-4cef-9250-cab94aa8ffe8",
   "metadata": {},
   "outputs": [],
   "source": [
    "from sklearn.impute import KNNImputer\n",
    "knn_imputer_data = pd.DataFrame()\n",
    "imputer = KNNImputer(add_indicator=True)\n",
    "knn_imputer_data[numerical_columns + [\"indicator\"]] = imputer.fit_transform(impute_test_data[numerical_columns])"
   ]
  },
  {
   "cell_type": "code",
   "execution_count": null,
   "id": "80fb7f9a-1377-467c-a22e-e76bf5ddf592",
   "metadata": {},
   "outputs": [],
   "source": [
    "from sklearn.experimental import enable_iterative_imputer\n",
    "from sklearn.impute import IterativeImputer\n",
    "from sklearn.ensemble import RandomForestRegressor\n",
    "\n",
    "estimator = RandomForestRegressor(n_estimators=10)\n",
    "iterative_imputer_data = pd.DataFrame()\n",
    "imputer = IterativeImputer(estimator=estimator, add_indicator=True)\n",
    "iterative_imputer_data[numerical_columns + [\"indicator\"]] = imputer.fit_transform(impute_test_data[numerical_columns])"
   ]
  },
  {
   "cell_type": "code",
   "execution_count": null,
   "id": "d1036afa-7145-4a3c-a212-84d767e133f0",
   "metadata": {},
   "outputs": [],
   "source": [
    "original_values = nations_data[nations_data[\"country\"] == \"Germany\"]\n",
    "simply_imputed = simple_imputer_data.loc[imputed_index]\n",
    "knn_imputed = knn_imputer_data.loc[imputed_index]\n",
    "iterativly_imputed = iterative_imputer_data.loc[imputed_index]\n",
    "\n",
    "plt.plot(original_values[\"year\"], original_values[\"gdp_percap\"],\n",
    "         marker=\"o\", label=\"Original Values\", color=\"#266662\")\n",
    "plt.plot(original_values[\"year\"], simply_imputed[\"gdp_percap\"],\n",
    "         marker=\"x\", label=\"Simple Imputer Values\", color=\"#ED5654\")\n",
    "plt.plot(original_values[\"year\"], knn_imputed[\"gdp_percap\"], \n",
    "         marker=\"v\", label=\"KNN Imputer Values\", color=\"#9E5E9B\")\n",
    "plt.plot(original_values[\"year\"], iterativly_imputed[\"gdp_percap\"],\n",
    "         marker=\"s\", label=\"Random Forrest Values\", color=\"#0070C0\")\n",
    "plt.legend()\n",
    "plt.xlabel(\"Year\")\n",
    "plt.ylabel(\"Scaled GDP per Capita\")\n",
    "plt.savefig(\"Imputer_Test.png\", dpi=200)\n",
    "plt.show()"
   ]
  },
  {
   "cell_type": "markdown",
   "id": "011dbfef-a750-49ce-9850-892457d6412d",
   "metadata": {},
   "source": [
    "## Impute Original Data\n",
    "The iterative imputer is capable of imputing several features with missing values iteratively"
   ]
  },
  {
   "cell_type": "code",
   "execution_count": null,
   "id": "7214c710-4b48-4492-bf45-c674fc289a35",
   "metadata": {},
   "outputs": [],
   "source": [
    "from sklearn.experimental import enable_iterative_imputer\n",
    "from sklearn.neighbors import KNeighborsRegressor\n",
    "from sklearn.impute import IterativeImputer\n",
    "\n",
    "knn = KNeighborsRegressor(n_neighbors=5)\n",
    "iterative_imputer = IterativeImputer(estimator=knn, add_indicator=False)\n",
    "nations_data[numerical_columns] = iterative_imputer.fit_transform(nations_data[numerical_columns])\n",
    "\n",
    "nations_data.isna().sum()"
   ]
  },
  {
   "cell_type": "code",
   "execution_count": null,
   "id": "443586be-2109-4f7a-9f72-2b8cfe66c7e9",
   "metadata": {},
   "outputs": [],
   "source": [
    "nations_data.to_csv(\"preprocessed_nations_data.csv\")"
   ]
  },
  {
   "cell_type": "markdown",
   "id": "e46cf7ba-aaa7-49c2-b43e-eec588d1dd4c",
   "metadata": {},
   "source": [
    "## Assembling a Data Pipeline\n",
    "The above steps can be put into a pipeline for deployment. For this example, we'll perform a regression on the life expectancy. We'll use the life expectancy of Romania as a test case"
   ]
  },
  {
   "cell_type": "code",
   "execution_count": null,
   "id": "57f96129-4816-403e-9ed3-5ae4911c359e",
   "metadata": {},
   "outputs": [],
   "source": [
    "from sklearn.compose import ColumnTransformer\n",
    "from sklearn.pipeline import Pipeline\n",
    "from sklearn.preprocessing import FunctionTransformer\n",
    "from sklearn.ensemble import RandomForestRegressor\n",
    "\n",
    "# declare life_expect as test data and split train and test set\n",
    "nations_data = pd.read_csv(\"nations.csv\")\n",
    "valid = nations_data[\"life_expect\"].notna()\n",
    "# We'll use life_expect of Romania as test sample\n",
    "test_country_index = nations_data[valid][nations_data[\"iso3c\"] == \"ROU\"].index\n",
    "test_target = nations_data.iloc[test_country_index][\"life_expect\"]\n",
    "test_features = nations_data.iloc[test_country_index].drop(columns=\"life_expect\")\n",
    "\n",
    "train_target = nations_data[\"life_expect\"][valid]\n",
    "train_features = nations_data[valid].drop(columns=\"life_expect\")\n",
    "\n",
    "train_features.drop(test_country_index, inplace=True)\n",
    "train_target.drop(test_country_index, inplace=True)\n",
    "# for pipelining feature columns have to be enumerated\n",
    "numerical_columns = [\"gdp_percap\",\n",
    "                     \"population\",\n",
    "                     \"birth_rate\",\n",
    "                     \"neonat_mortal_rate\"]\n",
    "\n",
    "def encoder(nations_data):\n",
    "    nations_data[\"iso3c\"] = nations_data[\"iso3c\"].astype('category').cat.codes\n",
    "    return nations_data"
   ]
  },
  {
   "cell_type": "code",
   "execution_count": null,
   "id": "7aad3c72-3085-4b6c-a5cf-1c176b916956",
   "metadata": {},
   "outputs": [],
   "source": [
    "scale_converter = FunctionTransformer(replace_income)\n",
    "label_encoder = FunctionTransformer(encoder)\n",
    "\n",
    "\n",
    "scaler = ColumnTransformer([(\"passthrough\", \"passthrough\", [\"iso3c\", \"year\"]),\n",
    "                            (\"robust_scaling\", RobustScaler(), numerical_columns + [\"income\"])],\n",
    "                            remainder=\"drop\",\n",
    "                            verbose_feature_names_out=False).set_output(transform=\"pandas\")\n",
    "\n",
    "imputer = ColumnTransformer([(\"imputer\", iterative_imputer, numerical_columns + [\"income\"])],\n",
    "                            remainder=\"passthrough\",\n",
    "                            verbose_feature_names_out=False).set_output(transform=\"pandas\")\n",
    "\n",
    "estimator = RandomForestRegressor(n_estimators=20)\n",
    "\n",
    "pipeline = Pipeline([(\"preprocessor\", scale_converter),\n",
    "                     (\"label_encoder\", label_encoder),\n",
    "                     (\"scaler\", scaler),\n",
    "                     (\"imputer\", imputer),\n",
    "                     (\"estimator\", estimator)\n",
    "                     ])\n",
    "\n",
    "pipeline.fit(train_features, train_target)\n",
    "pipeline"
   ]
  },
  {
   "cell_type": "code",
   "execution_count": null,
   "id": "30986649-ea74-471d-9e9f-169e79952fcb",
   "metadata": {},
   "outputs": [],
   "source": [
    "predicted_values = pipeline.predict(test_features)\n",
    "plot_data = test_features\n",
    "plot_data[\"predicted_values\"] = predicted_values\n",
    "plot_data[\"target_values\"] = test_target\n",
    "\n",
    "plt.scatter(plot_data[\"year\"], plot_data[\"target_values\"],\n",
    "            marker=\"o\", label=\"Original Values\", color=\"#266662\")\n",
    "plt.plot(plot_data[\"year\"], plot_data[\"predicted_values\"],\n",
    "         marker=\"\", label=\"Model Prediction\", color=\"#ED5654\")\n",
    "plt.xlabel(\"Year\")\n",
    "plt.ylim(64,80)\n",
    "plt.ylabel(\"Life Expectancy in Romania in Years\")\n",
    "plt.legend()\n",
    "plt.show()"
   ]
  },
  {
   "cell_type": "code",
   "execution_count": null,
   "id": "29ac3608-9d36-4acb-8cec-bcb69a22598e",
   "metadata": {},
   "outputs": [],
   "source": []
  }
 ],
 "metadata": {
  "kernelspec": {
   "display_name": "Python 3 (ipykernel)",
   "language": "python",
   "name": "python3"
  },
  "language_info": {
   "codemirror_mode": {
    "name": "ipython",
    "version": 3
   },
   "file_extension": ".py",
   "mimetype": "text/x-python",
   "name": "python",
   "nbconvert_exporter": "python",
   "pygments_lexer": "ipython3",
   "version": "3.10.11"
  }
 },
 "nbformat": 4,
 "nbformat_minor": 5
}
