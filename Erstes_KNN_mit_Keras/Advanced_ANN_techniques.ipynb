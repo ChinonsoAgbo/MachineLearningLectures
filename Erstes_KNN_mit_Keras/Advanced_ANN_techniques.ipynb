{
 "cells": [
  {
   "cell_type": "markdown",
   "id": "1855d776-ce52-45ec-b794-8581fcc21afd",
   "metadata": {},
   "source": [
    "# Advanced ANN Techniques"
   ]
  },
  {
   "cell_type": "code",
   "id": "4f4a8baf-1a0b-4cd8-9f88-4d943f3d7f24",
   "metadata": {
    "jupyter": {
     "is_executing": true
    }
   },
   "source": [
    "import tensorflow as tf\n",
    "from tensorflow import keras\n",
    "import matplotlib.pyplot as plt\n",
    "import numpy as np"
   ],
   "outputs": [],
   "execution_count": null
  },
  {
   "cell_type": "markdown",
   "id": "0eedbe75-a082-4109-b33c-70196b139744",
   "metadata": {},
   "source": [
    "## Softmax Activation and Categorical Cross Entropy"
   ]
  },
  {
   "cell_type": "code",
   "execution_count": null,
   "id": "4ae602da-52e6-41f0-91b6-71e9212bb3ea",
   "metadata": {},
   "outputs": [],
   "source": [
    "def softmax(output_score):\n",
    "    result = np.zeros_like(output_score)\n",
    "    normalization = np.sum(np.exp(output_score))\n",
    "    for i, score in enumerate(output_score):\n",
    "        result[i] = np.exp(score) / normalization\n",
    "    return result"
   ]
  },
  {
   "cell_type": "code",
   "execution_count": null,
   "id": "173cd746-8052-47a8-8363-3cbec6c82436",
   "metadata": {},
   "outputs": [],
   "source": [
    "number_of_classes = 10\n",
    "raw_output_score = np.array([0, 1, 5, 0, 2, 1, 3, 0, 4, 2], dtype=float)\n",
    "softmax_output = softmax(raw_output_score)\n",
    "label = [0, 0, 1, 0, 0, 0, 0, 0, 0, 0]\n",
    "\n",
    "fig, axes = plt.subplots(3,1, sharex=True, figsize=(9, 8))\n",
    "axes[0].bar(np.linspace(0, 9, number_of_classes),\n",
    "            raw_output_score,\n",
    "            color=\"#266662\")\n",
    "axes[0].set_title(\"Raw Output Score\")\n",
    "axes[1].bar(np.linspace(0, 9, number_of_classes),\n",
    "            softmax_output,\n",
    "            color=\"#266662\")\n",
    "axes[1].set_title(\"Softmax Activation\")\n",
    "axes[1].set_ylabel(\"Activation\")\n",
    "\n",
    "axes[2].bar(np.linspace(0, 9, number_of_classes),\n",
    "        label,\n",
    "        color=\"#266662\")\n",
    "axes[2].set_title(\"Label\")\n",
    "axes[2].set_xlabel(\"Class Indices\")\n",
    "plt.savefig(\"softmax.png\", dpi=200, bbox_inches=\"tight\")\n",
    "plt.show()"
   ]
  },
  {
   "cell_type": "code",
   "execution_count": null,
   "id": "a45fca7c-9a97-4d7b-92e1-443f6d03afb2",
   "metadata": {},
   "outputs": [],
   "source": [
    "(x_train, y_train), (x_test, y_test) = keras.datasets.mnist.load_data()\n",
    "x_width = x_train.shape[1]\n",
    "x_height = x_train.shape[2]\n",
    "np.random.seed(2)\n",
    "\n",
    "x_val = x_train[:999,...]\n",
    "y_val = y_train[:999,...]\n",
    "\n",
    "x_train = x_train[1000:,...]\n",
    "y_train = y_train[1000:,...]"
   ]
  },
  {
   "cell_type": "markdown",
   "id": "813cc024-a6f1-41c8-a96a-21d19cf57841",
   "metadata": {},
   "source": [
    "## Data Preperation"
   ]
  },
  {
   "cell_type": "code",
   "execution_count": null,
   "id": "c22f18de-3015-493f-901b-08c83ac0689b",
   "metadata": {},
   "outputs": [],
   "source": [
    "@tf.function\n",
    "def normalize_img(data, label):\n",
    "    return tf.cast(data, tf.float32) / 255., label\n",
    "    \n",
    "@tf.function\n",
    "def one_hot_encoding(data, label, n_classes=10):\n",
    "    one_hot_labels = tf.one_hot(label, depth=n_classes)\n",
    "    return data, one_hot_labels\n",
    "\n",
    "dataset_train = tf.data.Dataset.from_tensor_slices((x_train, y_train))\n",
    "dataset_train = dataset_train.map(normalize_img)\n",
    "dataset_train = dataset_train.map(one_hot_encoding)\n",
    "dataset_train = dataset_train.cache()\n",
    "dataset_train = dataset_train.shuffle(x_train.shape[0])\n",
    "dataset_train = dataset_train.batch(64)\n",
    "dataset_train = dataset_train.prefetch(tf.data.AUTOTUNE)\n",
    "\n",
    "dataset_val = tf.data.Dataset.from_tensor_slices((x_val, y_val))\n",
    "dataset_val = dataset_val.map(normalize_img)\n",
    "dataset_val = dataset_val.map(one_hot_encoding)\n",
    "dataset_val = dataset_val.batch(64)\n",
    "dataset_val = dataset_val.cache()\n",
    "dataset_val = dataset_val.prefetch(tf.data.AUTOTUNE)\n",
    "\n",
    "dataset_test = tf.data.Dataset.from_tensor_slices((x_test, y_test))\n",
    "dataset_test = dataset_test.map(normalize_img)\n",
    "dataset_test = dataset_test.map(one_hot_encoding)\n",
    "dataset_test = dataset_test.batch(64)\n",
    "dataset_test = dataset_test.cache()\n",
    "dataset_test = dataset_test.prefetch(tf.data.AUTOTUNE)"
   ]
  },
  {
   "cell_type": "markdown",
   "id": "3f0a06f5-619c-41cb-ac2e-00fef2cc6f2f",
   "metadata": {},
   "source": [
    "## Building the Model"
   ]
  },
  {
   "cell_type": "code",
   "execution_count": null,
   "id": "d357170f-ce24-4d60-bb8f-d99b6d943317",
   "metadata": {},
   "outputs": [],
   "source": [
    "input_layer = tf.keras.layers.Input(shape=(x_width, x_height), name=\"input_layer\")\n",
    "flatten = tf.keras.layers.Flatten(name=\"flatten\")(input_layer)\n",
    "\n",
    "hidden_layer = tf.keras.layers.Dense(units=512,\n",
    "                                    activation=\"relu\",\n",
    "                                    name=\"hidden_layer_0\")(flatten)\n",
    "\n",
    "hidden_layer = tf.keras.layers.Dense(units=256,\n",
    "                                    activation=\"relu\",\n",
    "                                    name=\"hidden_layer_1\")(hidden_layer)\n",
    "\n",
    "hidden_layer = tf.keras.layers.Dense(units=128,\n",
    "                                    activation=\"relu\",\n",
    "                                    name=\"hidden_layer_2\")(hidden_layer)\n",
    "batch_norm = tf.keras.layers.BatchNormalization(name=\"batch_norm_2\")(hidden_layer)\n",
    "\n",
    "hidden_layer = tf.keras.layers.Dense(units=64,\n",
    "                                    activation=\"relu\",\n",
    "                                    kernel_regularizer=keras.regularizers.L2(0.001),\n",
    "                                    name=\"hidden_layer_3\")(batch_norm)\n",
    "\n",
    "hidden_layer = tf.keras.layers.Dense(units=32,\n",
    "                                    activation=\"relu\",\n",
    "                                    kernel_regularizer=keras.regularizers.L2(0.001),\n",
    "                                    name=\"hidden_layer_4\")(hidden_layer)\n",
    "\n",
    "dropout = tf.keras.layers.Dropout(0.2, name=\"dropout\")(hidden_layer)\n",
    "output_layer = tf.keras.layers.Dense(units=10,\n",
    "                                    activation=\"softmax\",\n",
    "                                    name=\"output_layer\")(dropout)"
   ]
  },
  {
   "cell_type": "markdown",
   "id": "737d7cf0-d76d-4599-a2f6-b16d75955bb0",
   "metadata": {},
   "source": [
    "## Compiling the model"
   ]
  },
  {
   "cell_type": "code",
   "execution_count": null,
   "id": "dab8d1e9-a484-4514-b592-5881deba5eb5",
   "metadata": {},
   "outputs": [],
   "source": [
    "model = tf.keras.Model(inputs=input_layer, outputs=[output_layer])\n",
    "\n",
    "model.compile(\n",
    "    optimizer=tf.keras.optimizers.Adam(0.002),\n",
    "    loss=tf.keras.losses.CategoricalCrossentropy(),\n",
    "    metrics=[tf.keras.metrics.CategoricalAccuracy()])\n",
    "model.summary()"
   ]
  },
  {
   "cell_type": "markdown",
   "id": "70393f89-f056-48f7-a464-9ea4f975cdf4",
   "metadata": {},
   "source": [
    "## Training the Model"
   ]
  },
  {
   "cell_type": "markdown",
   "id": "98ae6746-7c2b-4546-bcbc-9b320f2b214a",
   "metadata": {},
   "source": [
    "After the data pipeline is configured and the model ist constructed and compile, the training can be performed"
   ]
  },
  {
   "cell_type": "code",
   "execution_count": null,
   "id": "af34fe90-b354-4a86-993a-1cfdb2715464",
   "metadata": {},
   "outputs": [],
   "source": [
    "early_stopping = tf.keras.callbacks.EarlyStopping(monitor='val_loss',\n",
    "                                                 patience=5)\n",
    "\n",
    "lr_reduction = tf.keras.callbacks.ReduceLROnPlateau(monitor='val_loss',\n",
    "                                                    factor=0.5,\n",
    "                                                    patience=2,\n",
    "                                                    min_lr=1e-4)\n",
    "history = model.fit(\n",
    "    dataset_train,\n",
    "    validation_data=dataset_val,\n",
    "    epochs=2,\n",
    "    callbacks=[early_stopping, lr_reduction]\n",
    "    )\n",
    "model.save(\"./first_model.h5\")"
   ]
  },
  {
   "cell_type": "markdown",
   "id": "fe1f5b5f-560d-44ba-9ab4-f04131be6d4f",
   "metadata": {},
   "source": [
    "## Analyzing the Metrics"
   ]
  },
  {
   "cell_type": "markdown",
   "id": "c2e17209-5bb7-42bc-94ad-ae2d88af65e6",
   "metadata": {},
   "source": [
    "Training and validation metrics are important to monitor the model performance during the training process. It can point towards several problems such as overfitting or instability. "
   ]
  },
  {
   "cell_type": "code",
   "execution_count": null,
   "id": "530b8ae8-bd55-4942-89df-b49b73e4916f",
   "metadata": {},
   "outputs": [],
   "source": [
    "print(\"The history contains the metrics' progress along the training:\", history.history.keys())\n",
    "fig, ax1 = plt.subplots()\n",
    "\n",
    "ax1.plot(history.epoch, history.history[\"loss\"], label=\"Training Loss\", c=\"#266662\", linestyle=\"--\")\n",
    "ax1.plot(history.epoch, history.history[\"val_loss\"], label=\"Valdation Loss\", c=\"#ED5654\", linestyle=\"--\")\n",
    "ax2 = ax1.twinx()\n",
    "ax2.plot(history.epoch, history.history[\"categorical_accuracy\"], c=\"#266662\", label=\"Training Accuracy\")\n",
    "ax2.plot(history.epoch, history.history[\"val_categorical_accuracy\"], c=\"#ED5654\", label=\"Validation Accuracy\")\n",
    "ax1.set_xlabel(\"Epoch\")\n",
    "ax1.set_ylabel(\"Loss\")\n",
    "ax2.set_ylabel(\"Accuracy\")\n",
    "fig.legend()\n",
    "plt.savefig(\"all.png\", dpi=200, bbox_inches=\"tight\")\n",
    "plt.show()"
   ]
  },
  {
   "cell_type": "code",
   "execution_count": null,
   "id": "7cac6dec-223c-4380-b82b-4ea456b10433",
   "metadata": {},
   "outputs": [],
   "source": []
  }
 ],
 "metadata": {
  "kernelspec": {
   "display_name": "Python 3 (ipykernel)",
   "language": "python",
   "name": "python3"
  },
  "language_info": {
   "codemirror_mode": {
    "name": "ipython",
    "version": 3
   },
   "file_extension": ".py",
   "mimetype": "text/x-python",
   "name": "python",
   "nbconvert_exporter": "python",
   "pygments_lexer": "ipython3",
   "version": "3.10.11"
  }
 },
 "nbformat": 4,
 "nbformat_minor": 5
}
