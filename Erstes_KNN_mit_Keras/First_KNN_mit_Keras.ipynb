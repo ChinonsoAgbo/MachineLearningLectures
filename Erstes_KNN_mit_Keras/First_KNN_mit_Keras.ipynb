{
 "cells": [
  {
   "cell_type": "markdown",
   "id": "1855d776-ce52-45ec-b794-8581fcc21afd",
   "metadata": {},
   "source": [
    "# First KNN with Keras"
   ]
  },
  {
   "cell_type": "code",
   "id": "4f4a8baf-1a0b-4cd8-9f88-4d943f3d7f24",
   "metadata": {
    "ExecuteTime": {
     "end_time": "2024-05-27T10:25:14.146836Z",
     "start_time": "2024-05-27T10:25:14.022017Z"
    }
   },
   "source": [
    "import tensorflow as tf\n",
    "from tensorflow import keras\n",
    "import matplotlib.pyplot as plt\n",
    "import numpy as np"
   ],
   "outputs": [
    {
     "ename": "ModuleNotFoundError",
     "evalue": "No module named 'tensorflow'",
     "output_type": "error",
     "traceback": [
      "\u001B[1;31m---------------------------------------------------------------------------\u001B[0m",
      "\u001B[1;31mModuleNotFoundError\u001B[0m                       Traceback (most recent call last)",
      "Cell \u001B[1;32mIn[1], line 1\u001B[0m\n\u001B[1;32m----> 1\u001B[0m \u001B[38;5;28;01mimport\u001B[39;00m \u001B[38;5;21;01mtensorflow\u001B[39;00m \u001B[38;5;28;01mas\u001B[39;00m \u001B[38;5;21;01mtf\u001B[39;00m\n\u001B[0;32m      2\u001B[0m \u001B[38;5;28;01mfrom\u001B[39;00m \u001B[38;5;21;01mtensorflow\u001B[39;00m \u001B[38;5;28;01mimport\u001B[39;00m keras\n\u001B[0;32m      3\u001B[0m \u001B[38;5;28;01mimport\u001B[39;00m \u001B[38;5;21;01mmatplotlib\u001B[39;00m\u001B[38;5;21;01m.\u001B[39;00m\u001B[38;5;21;01mpyplot\u001B[39;00m \u001B[38;5;28;01mas\u001B[39;00m \u001B[38;5;21;01mplt\u001B[39;00m\n",
      "\u001B[1;31mModuleNotFoundError\u001B[0m: No module named 'tensorflow'"
     ]
    }
   ],
   "execution_count": 1
  },
  {
   "cell_type": "markdown",
   "id": "3f812785-29fc-4cd1-b6a2-9d745a76bf83",
   "metadata": {},
   "source": [
    "We'll use the MNIST dataset of handwritten digits as our first example of applying an artificial neural network in Keras. keras.datasets provides several benchmark data sets such this one. We'll split into a train set of 59 000 images, a validation set of 1000 images, and a test set of 10 000 Images."
   ]
  },
  {
   "cell_type": "code",
   "execution_count": 2,
   "id": "a45fca7c-9a97-4d7b-92e1-443f6d03afb2",
   "metadata": {},
   "outputs": [
    {
     "name": "stdout",
     "output_type": "stream",
     "text": [
      "Train Data Shape (59000, 28, 28)\n",
      "Train Label Shape  (59000,)\n"
     ]
    }
   ],
   "source": [
    "(x_train, y_train), (x_test, y_test) = keras.datasets.mnist.load_data()\n",
    "x_width = x_train.shape[1]\n",
    "x_height = x_train.shape[2]\n",
    "np.random.seed(2)\n",
    "\n",
    "x_val = x_train[:999,...]\n",
    "y_val = y_train[:999,...]\n",
    "\n",
    "x_train = x_train[1000:,...]\n",
    "y_train = y_train[1000:,...]\n",
    "\n",
    "print(\"Train Data Shape\", x_train.shape)\n",
    "print(\"Train Label Shape \", y_train.shape)"
   ]
  },
  {
   "cell_type": "markdown",
   "id": "e6e04e82-5e23-4c0c-a9c3-8541ff858267",
   "metadata": {},
   "source": [
    "The digits are represented as grey value images of 28x28 pixels as depicted below. Each pixel intensity is represented as 8 bit number ranging from 0 to 255."
   ]
  },
  {
   "cell_type": "code",
   "execution_count": 3,
   "id": "43770fae-1b6a-4472-ab71-0ee8eaf1bab2",
   "metadata": {},
   "outputs": [
    {
     "data": {
      "image/png": "[encoded data removed]",
      "text/plain": [
       "<Figure size 480x480 with 2 Axes>"
      ]
     },
     "metadata": {},
     "output_type": "display_data"
    }
   ],
   "source": [
    "plt.matshow(x_train[1],cmap=\"gist_gray\")\n",
    "plt.colorbar()\n",
    "plt.savefig(\"seven.png\", dpi=200, bbox_inches=\"tight\")\n",
    "plt.show()"
   ]
  },
  {
   "cell_type": "markdown",
   "id": "813cc024-a6f1-41c8-a96a-21d19cf57841",
   "metadata": {},
   "source": [
    "## Data Preperation"
   ]
  },
  {
   "cell_type": "markdown",
   "id": "a6094cf1-b01e-47cd-8d57-f5bf5f3e2698",
   "metadata": {},
   "source": [
    "### One-Hot Ecnoding"
   ]
  },
  {
   "cell_type": "markdown",
   "id": "86a93a26-0b65-4203-816d-75550a3a8b44",
   "metadata": {},
   "source": [
    "The MNIST data set contains digits from 0 to 9 and hence has 10 classes. The label for each class is represented as an according integer from 0 to 9. In our first artificial neural network, each class is represented by an output neuron, yielding a one score for each class. In order to compare the output to the labels, the labels need to be one-hot encoded. This means for each label entry, an array is generated with an length equal to the number of classes. Each entry is zero but the one corresponding to the class"
   ]
  },
  {
   "cell_type": "code",
   "execution_count": 4,
   "id": "ccde3036-99ee-4237-b3ef-98ff3b50ef10",
   "metadata": {},
   "outputs": [
    {
     "name": "stdout",
     "output_type": "stream",
     "text": [
      "Label representation as integer: 7\n",
      "Label representation as one-hot tensor: tf.Tensor([0. 0. 0. 0. 0. 0. 0. 1. 0. 0.], shape=(10,), dtype=float32)\n"
     ]
    }
   ],
   "source": [
    "print(\"Label representation as integer:\", y_train[1])\n",
    "\n",
    "n_classes = len(np.unique(y_train))\n",
    "one_hot_tensor = tf.one_hot(y_train[1], depth=n_classes)\n",
    "print(\"Label representation as one-hot tensor:\", one_hot_tensor)"
   ]
  },
  {
   "cell_type": "markdown",
   "id": "70aaca69-9784-494c-b7d3-4431cd427596",
   "metadata": {},
   "source": [
    "The one-hot encoding is one of several steps in the data pipeline. Data pipelines can be implemented using the tf.data module. In the following steps several preprocessing functions are defined."
   ]
  },
  {
   "cell_type": "code",
   "execution_count": 5,
   "id": "c22f18de-3015-493f-901b-08c83ac0689b",
   "metadata": {},
   "outputs": [],
   "source": [
    "# For efficiency, the function used here are wrapped as tf.function objects using the respective decorator\n",
    "@tf.function\n",
    "def normalize_img(data, label):\n",
    "    # it is essential to scale the data. Since each pixel is represented by a 8 bit integer, we'll divide by 255 to normalize the pixel values to [0,1]\n",
    "    return tf.cast(data, tf.float32) / 255., label\n",
    "    \n",
    "@tf.function\n",
    "def one_hot_encoding(data, label):\n",
    "    # Performing the one-hot encoding using the tesnorflow function demonstrated above\n",
    "    one_hot_labels = tf.one_hot(label, depth=n_classes)\n",
    "    return data, one_hot_labels\n",
    "\n",
    "# defining the training data pipe line\n",
    "# first a Dataset object is initialised using the training data and labels from tensor slices\n",
    "dataset_train = tf.data.Dataset.from_tensor_slices((x_train, y_train))\n",
    "# Using the Dataset.map function, the predefined preprocessing steps can be applied efficiently to each data entry\n",
    "dataset_train = dataset_train.map(normalize_img)\n",
    "dataset_train = dataset_train.map(one_hot_encoding)\n",
    "# The data set is cached to increase performance\n",
    "dataset_train = dataset_train.cache()\n",
    "# after each epoch, the data set is randomly shuffled to decrease overfitting\n",
    "dataset_train = dataset_train.shuffle(x_train.shape[0])\n",
    "# the data set is divided into batches of 64\n",
    "dataset_train = dataset_train.batch(64)\n",
    "# during the evaluation at the end of each epoch the next batch is already prefetched to increase performance\n",
    "dataset_train = dataset_train.prefetch(tf.data.AUTOTUNE)\n",
    "\n",
    "# Validation and test data sets are prepared similarly but they don't have to be shuffled, since they're not used for weight updates\n",
    "dataset_val = tf.data.Dataset.from_tensor_slices((x_val, y_val))\n",
    "dataset_val = dataset_val.map(normalize_img)\n",
    "dataset_val = dataset_val.map(one_hot_encoding)\n",
    "dataset_val = dataset_val.batch(64)\n",
    "dataset_val = dataset_val.cache()\n",
    "dataset_val = dataset_val.prefetch(tf.data.AUTOTUNE)\n",
    "\n",
    "dataset_test = tf.data.Dataset.from_tensor_slices((x_test, y_test))\n",
    "dataset_test = dataset_test.map(normalize_img)\n",
    "dataset_test = dataset_test.map(one_hot_encoding)\n",
    "dataset_test = dataset_test.batch(64)\n",
    "dataset_test = dataset_test.cache()\n",
    "dataset_test = dataset_test.prefetch(tf.data.AUTOTUNE)"
   ]
  },
  {
   "cell_type": "markdown",
   "id": "3f0a06f5-619c-41cb-ac2e-00fef2cc6f2f",
   "metadata": {},
   "source": [
    "## Building a Model"
   ]
  },
  {
   "cell_type": "markdown",
   "id": "960992c2-0286-4aed-95c3-fc65bf31c5ec",
   "metadata": {},
   "source": [
    "An artifical neural network can be set up using keras.layers. Each layer output is used as input for the following layer hence generating some thing similar to multi-layer-perceptron"
   ]
  },
  {
   "cell_type": "code",
   "execution_count": 6,
   "id": "d357170f-ce24-4d60-bb8f-d99b6d943317",
   "metadata": {},
   "outputs": [],
   "source": [
    "# the input layer is defined by the expected input shape of the data.\n",
    "input_layer = tf.keras.layers.Input(shape=(x_width, x_height), name=\"input_layer\")\n",
    "# since we're using 2D data we'll reshape the input into a vector of size 28x28 = 784 dimensions\n",
    "flatten = tf.keras.layers.Flatten(name=\"flatten\")(input_layer)\n",
    "# The Dense layer corresponds to the layers used in the multi-layer-perceptron. Each neuron is connected to each input, hence the name\n",
    "# The number of artificial neurons in the layer is defined by the units-parameter, and for the activation function we choose the sigmoid\n",
    "hidden_layer = tf.keras.layers.Dense(units=32,\n",
    "                                    activation=\"sigmoid\",\n",
    "                                    name=\"hidden_layer\")(flatten)\n",
    "# Another Dense layer is used as output. It consists of 10 neurons with sigmoid activation. Each neuron represents an output class and yields a score from 0 to 1\n",
    "# The neuron with the highest score is selected as output class. The objective of the training is to get this result vector as close to the one-hot label vector as possible\n",
    "output_layer = tf.keras.layers.Dense(units=10,\n",
    "                                    activation=\"sigmoid\",\n",
    "                                    name=\"output_layer\")(hidden_layer)"
   ]
  },
  {
   "cell_type": "markdown",
   "id": "737d7cf0-d76d-4599-a2f6-b16d75955bb0",
   "metadata": {},
   "source": [
    "## Compiling the model"
   ]
  },
  {
   "cell_type": "code",
   "execution_count": 7,
   "id": "dab8d1e9-a484-4514-b592-5881deba5eb5",
   "metadata": {},
   "outputs": [
    {
     "name": "stdout",
     "output_type": "stream",
     "text": [
      "Model: \"model\"\n",
      "_________________________________________________________________\n",
      " Layer (type)                Output Shape              Param #   \n",
      "=================================================================\n",
      " input_layer (InputLayer)    [(None, 28, 28)]          0         \n",
      "                                                                 \n",
      " flatten (Flatten)           (None, 784)               0         \n",
      "                                                                 \n",
      " hidden_layer (Dense)        (None, 32)                25120     \n",
      "                                                                 \n",
      " output_layer (Dense)        (None, 10)                330       \n",
      "                                                                 \n",
      "=================================================================\n",
      "Total params: 25,450\n",
      "Trainable params: 25,450\n",
      "Non-trainable params: 0\n",
      "_________________________________________________________________\n"
     ]
    }
   ],
   "source": [
    "# A keras.Model can be defined by specifying the input and the output vectors of the neural network assembled above\n",
    "model = tf.keras.Model(inputs=input_layer, outputs=[output_layer])\n",
    "# The model needs to be compiled for the training. The most important parameters for the compilation are\n",
    "# the optimizer, the loss function and the accuracy metric.\n",
    "model.compile(\n",
    "    optimizer=tf.keras.optimizers.RMSprop(0.2), # RMSprop of SGD wechsel \n",
    "    loss=tf.keras.losses.MeanSquaredError(),\n",
    "    metrics=[tf.keras.metrics.CategoricalAccuracy()])\n",
    "# The Model.summary returns some helpful information concerning the model architecture and sizes\n",
    "model.summary()"
   ]
  },
  {
   "cell_type": "markdown",
   "id": "70393f89-f056-48f7-a464-9ea4f975cdf4",
   "metadata": {},
   "source": [
    "## Training the Model"
   ]
  },
  {
   "cell_type": "markdown",
   "id": "98ae6746-7c2b-4546-bcbc-9b320f2b214a",
   "metadata": {},
   "source": [
    "After the data pipeline is configured and the model ist constructed and compile, the training can be performed"
   ]
  },
  {
   "cell_type": "code",
   "execution_count": null,
   "id": "af34fe90-b354-4a86-993a-1cfdb2715464",
   "metadata": {},
   "outputs": [
    {
     "name": "stdout",
     "output_type": "stream",
     "text": [
      "Epoch 1/10\n",
      "922/922 [==============================] - 3s 1ms/step - loss: 0.1009 - categorical_accuracy: 0.1000 - val_loss: 0.1000 - val_categorical_accuracy: 0.0931\n",
      "Epoch 2/10\n",
      "264/922 [=======>......................] - ETA: 0s - loss: 0.1000 - categorical_accuracy: 0.0987"
     ]
    }
   ],
   "source": [
    "# The training can be performed using the Model.fit method. Most importantly the train and \n",
    "# validation data sets are specified, and for example the maximum number of training epochs.\n",
    "# Further options will be explored later during the course\n",
    "history = model.fit(\n",
    "    dataset_train,\n",
    "    validation_data=dataset_val,\n",
    "    epochs=10\n",
    "    )\n",
    "# The model can be saved in several file formats after training for deployment or further training\n",
    "model.save(\"./first_model.h5\")"
   ]
  },
  {
   "cell_type": "markdown",
   "id": "fe1f5b5f-560d-44ba-9ab4-f04131be6d4f",
   "metadata": {},
   "source": [
    "## Analyzing the Metrics"
   ]
  },
  {
   "cell_type": "markdown",
   "id": "c2e17209-5bb7-42bc-94ad-ae2d88af65e6",
   "metadata": {},
   "source": [
    "Training and validation metrics are important to monitor the model performance during the training process. It can point towards several problems such as overfitting or instability. "
   ]
  },
  {
   "cell_type": "code",
   "execution_count": null,
   "id": "530b8ae8-bd55-4942-89df-b49b73e4916f",
   "metadata": {},
   "outputs": [],
   "source": [
    "print(\"The history contains the metrics' progress along the training:\", history.history.keys())\n",
    "fig, ax1 = plt.subplots()\n",
    "\n",
    "ax1.plot(history.epoch, history.history[\"loss\"], label=\"Training Loss\", c=\"#266662\", linestyle=\"--\")\n",
    "ax1.plot(history.epoch, history.history[\"val_loss\"], label=\"Valdation Loss\", c=\"#ED5654\", linestyle=\"--\")\n",
    "ax2 = ax1.twinx()\n",
    "ax2.plot(history.epoch, history.history[\"categorical_accuracy\"], c=\"#266662\", label=\"Training Accuracy\")\n",
    "ax2.plot(history.epoch, history.history[\"val_categorical_accuracy\"], c=\"#ED5654\", label=\"Validation Accuracy\")\n",
    "ax1.set_xlabel(\"Epoch\")\n",
    "ax1.set_ylabel(\"Loss\")\n",
    "ax2.set_ylabel(\"Accuracy\")\n",
    "fig.legend(loc=\"center\")\n",
    "plt.show()"
   ]
  },
  {
   "cell_type": "markdown",
   "id": "93caea0d-0c94-48a2-9ab8-8fce5365556f",
   "metadata": {},
   "source": [
    "## Evaluate on Test Data"
   ]
  },
  {
   "cell_type": "markdown",
   "id": "56432b8d-ccd5-4895-bb28-1cbfacebe344",
   "metadata": {},
   "source": [
    "An important step in the life cycle of a model is the evaluation on a test set. Before the model is deployed, it is important to make sure it performs as expected on a given test set."
   ]
  },
  {
   "cell_type": "code",
   "execution_count": null,
   "id": "27c0da61-697d-4aa4-82d8-2b2b7299149e",
   "metadata": {},
   "outputs": [],
   "source": [
    "test_prediction = model.evaluate(dataset_test)\n",
    "print(\"Test Loss: \", test_prediction[0])\n",
    "print(\"Test Accuracy: \", test_prediction[1])"
   ]
  },
  {
   "cell_type": "markdown",
   "id": "cadd5e94-1c9d-4941-91f5-e23ec240b486",
   "metadata": {},
   "source": [
    "## Understanding the Model"
   ]
  },
  {
   "cell_type": "markdown",
   "id": "ccdc07c8-7b82-45e5-b6e6-b58430b4a4c8",
   "metadata": {},
   "source": [
    "To understand the model in a bit more detail, we'll take a look inside. To that end, an example batch is extracted from the training data and predicted by the model."
   ]
  },
  {
   "cell_type": "code",
   "execution_count": null,
   "id": "fca24311-4f76-4a9c-aa26-79471e10f4c9",
   "metadata": {},
   "outputs": [],
   "source": [
    "example_data = dataset_train.as_numpy_iterator()\n",
    "example_batch = example_data.next()[0]\n",
    "example_batch.shape"
   ]
  },
  {
   "cell_type": "markdown",
   "id": "ef7d6da2-4e72-46b4-8670-e5feb63162e1",
   "metadata": {},
   "source": [
    "As described above, the model predicts a score for each of the ten output classes. The class with the highest output score (as calculated by a sigmoid function) can be extraced by an argmax function and is declared the classification result."
   ]
  },
  {
   "cell_type": "code",
   "execution_count": null,
   "id": "3b100876-6ad5-40b9-aa94-c1be920c197e",
   "metadata": {},
   "outputs": [],
   "source": [
    "prediction = model.predict(example_batch)\n",
    "print(\"The prediction result looks the following:\\n\", prediction[0])\n",
    "\n",
    "plt.matshow(example_batch[0], cmap=\"gist_gray\")\n",
    "plt.title(f\"Class {np.argmax(prediction[0])} with sigmoid score of {np.max(prediction[0]):.2f}\")\n",
    "plt.colorbar()\n",
    "plt.show()"
   ]
  },
  {
   "cell_type": "markdown",
   "id": "2c9703e1-c50b-4d87-b9d2-d213486f8f07",
   "metadata": {},
   "source": [
    "The model inference can be inspected more closely by adding each layers output to the model output for each inference"
   ]
  },
  {
   "cell_type": "code",
   "execution_count": null,
   "id": "cca6c3e0-25df-4d8e-9e92-e65a92170ac1",
   "metadata": {},
   "outputs": [],
   "source": [
    "# all layer outputs are added to the model output\n",
    "multi_out = tf.keras.Model(inputs=model.input, outputs=[layer.output for layer in model.layers])\n",
    "# the predict call now returns all specified outputs\n",
    "all_outputs = multi_out.predict(example_batch)"
   ]
  },
  {
   "cell_type": "markdown",
   "id": "9c4333a4-0350-4e01-a6b7-81be54758897",
   "metadata": {},
   "source": [
    "The Flatten layer transforms the 2D input image into a 1D vector. For now we can only deal with vectors as inputs"
   ]
  },
  {
   "cell_type": "code",
   "execution_count": null,
   "id": "5d5bf287-2b59-436d-b380-80ef2353d9ff",
   "metadata": {},
   "outputs": [],
   "source": [
    "# the following entry in the output list is the the output after the Flatten layer transforming the 28x28 pixels into a 784 parameter vector.\n",
    "# Each prediction is performed in batches of 64, hence, the first dimension (all_outputs[1].shape[0]) of each output is number of data samples in each batch\n",
    "print(\"Shape after flattening layer:\", all_outputs[1].shape)\n",
    "plt.figure(figsize=(16, 4))\n",
    "plt.bar(range(all_outputs[1].shape[1]), all_outputs[1][0,:], color=\"#266662\")\n",
    "plt.savefig(\"flattened_in.png\", dpi=200, bbox_inches=\"tight\")\n",
    "plt.show()"
   ]
  },
  {
   "cell_type": "code",
   "execution_count": null,
   "id": "36b7ce02-43df-4cc5-8f41-d057f4cbe53b",
   "metadata": {},
   "outputs": [],
   "source": [
    "#The hidden layer processes these 784 inputs and calculates 64 outputs from them\n",
    "hidden_out = all_outputs[2]\n",
    "print(\"Output Shape of hidden layer:\", hidden_out.shape)\n",
    "plt.figure(figsize=(16, 4))\n",
    "plt.bar(range(hidden_out.shape[1]), hidden_out[0,:], color=\"#266662\")\n",
    "plt.xlabel(\"Output Number\")\n",
    "plt.ylabel(\"Activation Strength\")\n",
    "plt.show()"
   ]
  },
  {
   "cell_type": "markdown",
   "id": "a698ef76-8bd6-4a90-8a4a-ebe87f593ccf",
   "metadata": {},
   "source": [
    "## Feature Embedding with PCA"
   ]
  },
  {
   "cell_type": "markdown",
   "id": "0b4e5096-1d0e-4997-80a7-3669449db625",
   "metadata": {},
   "source": [
    "Since it's difficut to develop an intuitiion for such high dimensional feature spaces, a representation of the first two principal components can help"
   ]
  },
  {
   "cell_type": "code",
   "execution_count": null,
   "id": "b46d4b28-21e5-4850-b583-8512e9bcbd3a",
   "metadata": {},
   "outputs": [],
   "source": [
    "from sklearn.decomposition import PCA\n",
    "pca = PCA(n_components=2)\n",
    "example_batch_2D = pca.fit_transform(hidden_out)\n",
    "pca.explained_variance_ratio_"
   ]
  },
  {
   "cell_type": "markdown",
   "id": "50b0ca17-a304-4f70-b0b1-19eea0696f35",
   "metadata": {},
   "source": [
    "Each image can now be embedded into the two dimensional space. Indeed, the different input classes are projected onto different regions of the feature space. This is an indication that the hidden layer arranges the data reasonably for the classification afterwards"
   ]
  },
  {
   "cell_type": "code",
   "execution_count": null,
   "id": "35f31989-24ac-4f10-9b99-747e108dcc78",
   "metadata": {},
   "outputs": [],
   "source": [
    "from matplotlib.offsetbox import OffsetImage, AnnotationBbox\n",
    "\n",
    "def imscatter(x, y, images, ax=None, zoom=1):\n",
    "    if ax is None:\n",
    "        ax = plt.gca()\n",
    "    digits = list()\n",
    "    for x0, y0, im in zip(x, y, images):\n",
    "        im = OffsetImage(im, zoom=zoom, cmap=\"gist_gray\")\n",
    "        ab = AnnotationBbox(im, (x0, y0), xycoords='data', frameon=False)\n",
    "        digits.append(ax.add_artist(ab))\n",
    "    ax.update_datalim(np.column_stack([x, y]))\n",
    "    ax.autoscale()\n",
    "    return digits\n",
    "    \n",
    "fig, ax = plt.subplots()\n",
    "imscatter(example_batch_2D[:, 0],\n",
    "          example_batch_2D[:, 1],\n",
    "          example_batch,\n",
    "          zoom=0.5,\n",
    "          ax=ax)\n",
    "ax.set_xlabel(\"1st Main Component\")\n",
    "ax.set_ylabel(\"2nd Main Component\")\n",
    "plt.show()"
   ]
  },
  {
   "cell_type": "code",
   "execution_count": null,
   "id": "7cac6dec-223c-4380-b82b-4ea456b10433",
   "metadata": {},
   "outputs": [],
   "source": []
  }
 ],
 "metadata": {
  "kernelspec": {
   "display_name": "Python 3 (ipykernel)",
   "language": "python",
   "name": "python3"
  },
  "language_info": {
   "codemirror_mode": {
    "name": "ipython",
    "version": 3
   },
   "file_extension": ".py",
   "mimetype": "text/x-python",
   "name": "python",
   "nbconvert_exporter": "python",
   "pygments_lexer": "ipython3",
   "version": "3.10.11"
  }
 },
 "nbformat": 4,
 "nbformat_minor": 5
}
