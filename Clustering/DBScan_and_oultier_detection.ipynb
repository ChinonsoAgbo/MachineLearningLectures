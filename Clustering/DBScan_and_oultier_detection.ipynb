{
 "cells": [
  {
   "cell_type": "markdown",
   "id": "0f70618f-178c-4dd0-b56d-81f7c0e4eeb9",
   "metadata": {},
   "source": [
    "# DBScan and Outlier Detection"
   ]
  },
  {
   "cell_type": "code",
   "execution_count": null,
   "id": "96194d65-2792-4df4-bccf-c7dbd7c19987",
   "metadata": {},
   "outputs": [],
   "source": [
    "import matplotlib.pyplot as plt\n",
    "import numpy as np\n",
    "import data_gen"
   ]
  },
  {
   "cell_type": "code",
   "execution_count": null,
   "id": "eafd9752-9131-4797-8329-49d0d4676692",
   "metadata": {},
   "outputs": [],
   "source": [
    "blob_data = data_gen.four_blobs()\n",
    "uneven_blobs = data_gen.four_blobs(100, 100, 400, 400)\n",
    "mouse_data = data_gen.mouse_shape()\n",
    "moons_data = data_gen.two_moons()\n",
    "circle_data = data_gen.circle()\n",
    "noise_data = data_gen.noise()\n",
    "plot_data = [blob_data, uneven_blobs, mouse_data, moons_data, circle_data, noise_data]\n",
    "\n",
    "fig, axes = plt.subplots(2, 3, sharex=True, sharey=True, figsize=(16, 9))\n",
    "for ax, data in zip(axes.flatten(), plot_data):\n",
    "    ax.scatter(data[:, 0], data[:, 1], color=\"#266662\", marker=\".\")\n",
    "fig.savefig(\"cluster_plots.png\", dpi=200, bbox_inches=\"tight\")"
   ]
  },
  {
   "cell_type": "markdown",
   "id": "cde1b297-d83a-47b1-9b39-9d6546f69a0c",
   "metadata": {},
   "source": [
    "## DBScan for Blob Data"
   ]
  },
  {
   "cell_type": "code",
   "execution_count": null,
   "id": "4859bb5a-7a1e-4378-b02f-aea4e864bb02",
   "metadata": {},
   "outputs": [],
   "source": [
    "from sklearn.cluster import DBSCAN"
   ]
  },
  {
   "cell_type": "markdown",
   "id": "e6e04f72-ebed-45d4-b7bd-172b34f144ed",
   "metadata": {},
   "source": [
    "It can be difficult to get the DBScan parameters right. For medium sized data sets it helps to scan the parameter space and evaluate the number of clusters found and the ratio of outliers in the data."
   ]
  },
  {
   "cell_type": "code",
   "execution_count": null,
   "id": "f39ec848-1fbf-4f6c-9793-76f208ff0af1",
   "metadata": {},
   "outputs": [],
   "source": [
    "number_of_clusters = list()\n",
    "ratio_of_outliers = list()\n",
    "test_epsilon = np.linspace(1, 50, 50) / 100.\n",
    "for eps in test_epsilon:\n",
    "    # We'll keep min_samples constant and vary only eps\n",
    "    dbscan = DBSCAN(eps=eps, min_samples=5)\n",
    "    assignment = dbscan.fit(blob_data)\n",
    "    # dbscan.labels returns an array assigning each data point a cluster.\n",
    "    # Outliers are given the label -1\n",
    "    # counting all unique labels to obtain the number of clusters found\n",
    "    n_clusters = np.unique(dbscan.labels_)\n",
    "    number_of_clusters += [len(n_clusters[n_clusters >= 0])]\n",
    "    # counting the all data points labelled -1 as outliers\n",
    "    # and dividing the total number of data points\n",
    "    ratio_of_outliers += [len(dbscan.labels_[dbscan.labels_ < 0]) / len(dbscan.labels_)]\n"
   ]
  },
  {
   "cell_type": "code",
   "execution_count": null,
   "id": "ecde73bb-1ce8-407f-b25f-e963f8f50d76",
   "metadata": {},
   "outputs": [],
   "source": [
    "fig, ax1 = plt.subplots()\n",
    "ax1.plot(test_epsilon, number_of_clusters,\n",
    "         color=\"#266662\", label=\"Clusters\")\n",
    "ax1.set_xlabel(\"$\\epsilon$-Parameter\")\n",
    "ax1.set_xlim(0.01, 0.3)\n",
    "ax1.set_ylabel(\"Number of Clusters found\", color=\"#266662\")\n",
    "\n",
    "ax2 = ax1.twinx()\n",
    "ax2.plot(test_epsilon, ratio_of_outliers,\n",
    "         color=\"#9E5E9B\", linestyle=\"--\", label=\"Outliers\")\n",
    "ax2.set_ylim(0, 0.01)\n",
    "ax2.set_ylabel(\"Ratio of Outliers\", color=\"#9E5E9B\")\n",
    "fig.savefig(\"eps_adjustment.png\", dpi=200, bbox_inches=\"tight\")\n",
    "plt.show()"
   ]
  },
  {
   "cell_type": "markdown",
   "id": "b3262e92-b7f4-41d6-a73b-036ab62eb387",
   "metadata": {},
   "source": [
    "The plateau around eps=0.1 looks most promising. In order to visualize the progress, the cluster result for two other eps values are plotted as well"
   ]
  },
  {
   "cell_type": "code",
   "execution_count": null,
   "id": "266c915f-ece0-44a4-abd0-9a1e643040a1",
   "metadata": {},
   "outputs": [],
   "source": [
    "from matplotlib.colors import ListedColormap\n",
    "eps_list = [0.03, 0.1, 0.2]\n",
    "fig, axes = plt.subplots(1, 3, sharey=True, figsize=(8,2))\n",
    "cmap = ListedColormap([\"#266662\", \"#9E5E9B\", \"#ED5654\", \"#B68E15\", \"#00B0F0\"])\n",
    "\n",
    "for eps, ax in zip(eps_list, axes):\n",
    "    dbscan = DBSCAN(eps=eps, min_samples=5)\n",
    "    assignment = dbscan.fit_predict(blob_data)\n",
    "    core_sample_labels = dbscan.labels_[dbscan.labels_ >= 0]\n",
    "    core_samples = blob_data[dbscan.labels_ >= 0]\n",
    "    outliers = blob_data[dbscan.labels_ < 0]\n",
    "    ax.scatter(core_samples[:, 0], core_samples[:, 1], c=core_sample_labels,\n",
    "               cmap=cmap, marker=\".\", alpha=0.5)\n",
    "    ax.scatter(outliers[:, 0], outliers[:, 1], c=\"grey\",\n",
    "               marker=\".\")\n",
    "\n",
    "fig.savefig(\"DBScan_eps.png\", dpi=200, bbox_inches=\"tight\")\n",
    "plt.show()"
   ]
  },
  {
   "cell_type": "markdown",
   "id": "dd3bb043-228a-4ff7-b539-f2f2b8d56c89",
   "metadata": {},
   "source": [
    "## Performance of DBScan on all Data Sets"
   ]
  },
  {
   "cell_type": "code",
   "execution_count": null,
   "id": "d333fadd-967a-456c-8221-2f49594ab4c4",
   "metadata": {},
   "outputs": [],
   "source": [
    "from matplotlib.colors import ListedColormap\n",
    "cmap = ListedColormap([\"#266662\", \"#9E5E9B\", \"#ED5654\", \"#B68E15\"])\n",
    "fig, axes = plt.subplots(2, 3, sharex=True, sharey=True, figsize=(16, 9))\n",
    "min_samples=2\n",
    "eps_list = [1, 1, 1, 1, 1, 1]\n",
    "\n",
    "for data, eps, ax in zip(plot_data, eps_list, axes.flatten()):\n",
    "    dbscan = DBSCAN(eps=eps, min_samples=min_samples)\n",
    "    assignment = dbscan.fit_predict(data)\n",
    "    core_sample_labels = dbscan.labels_[dbscan.labels_ >= 0]\n",
    "    core_samples = data[dbscan.labels_ >= 0]\n",
    "    outliers = data[dbscan.labels_ < 0]\n",
    "    ax.scatter(core_samples[:, 0], core_samples[:, 1], c=core_sample_labels,\n",
    "               cmap=cmap, marker=\"o\", alpha=0.5)\n",
    "    ax.scatter(outliers[:, 0], outliers[:, 1], c=\"grey\",\n",
    "               marker=\"x\")\n",
    "\n",
    "fig.savefig(\"DBScan_all_data.png\", dpi=200, bbox_inches=\"tight\")\n",
    "plt.show()"
   ]
  },
  {
   "cell_type": "code",
   "execution_count": null,
   "id": "f08be8c8-dd3c-42ac-8d1f-cacd0277886b",
   "metadata": {},
   "outputs": [],
   "source": []
  }
 ],
 "metadata": {
  "kernelspec": {
   "display_name": "Python 3 (ipykernel)",
   "language": "python",
   "name": "python3"
  },
  "language_info": {
   "codemirror_mode": {
    "name": "ipython",
    "version": 3
   },
   "file_extension": ".py",
   "mimetype": "text/x-python",
   "name": "python",
   "nbconvert_exporter": "python",
   "pygments_lexer": "ipython3",
   "version": "3.10.11"
  }
 },
 "nbformat": 4,
 "nbformat_minor": 5
}
