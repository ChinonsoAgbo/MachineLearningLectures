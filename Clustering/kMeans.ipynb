{
 "cells": [
  {
   "cell_type": "markdown",
   "id": "869ae019-9998-4ad9-a306-96067fee6cb4",
   "metadata": {},
   "source": [
    "# kMeans Clustering"
   ]
  },
  {
   "cell_type": "code",
   "execution_count": 1,
   "id": "e7f83b63-27a1-47f3-b014-9d34ab23befd",
   "metadata": {},
   "outputs": [
    {
     "ename": "ModuleNotFoundError",
     "evalue": "No module named 'sklearn'",
     "output_type": "error",
     "traceback": [
      "\u001b[1;31m---------------------------------------------------------------------------\u001b[0m",
      "\u001b[1;31mModuleNotFoundError\u001b[0m                       Traceback (most recent call last)",
      "Cell \u001b[1;32mIn[1], line 5\u001b[0m\n\u001b[0;32m      3\u001b[0m \u001b[38;5;28;01mimport\u001b[39;00m \u001b[38;5;21;01mwarnings\u001b[39;00m\n\u001b[0;32m      4\u001b[0m warnings\u001b[38;5;241m.\u001b[39msimplefilter(\u001b[38;5;124m\"\u001b[39m\u001b[38;5;124mignore\u001b[39m\u001b[38;5;124m\"\u001b[39m)\n\u001b[1;32m----> 5\u001b[0m \u001b[38;5;28;01mimport\u001b[39;00m \u001b[38;5;21;01mdata_gen\u001b[39;00m\n",
      "File \u001b[1;32mD:\\studium\\Semester4\\KI-Programmiergrundlagen\\codeBeispiele\\Clustering\\data_gen.py:2\u001b[0m\n\u001b[0;32m      1\u001b[0m \u001b[38;5;28;01mimport\u001b[39;00m \u001b[38;5;21;01mnumpy\u001b[39;00m \u001b[38;5;28;01mas\u001b[39;00m \u001b[38;5;21;01mnp\u001b[39;00m\n\u001b[1;32m----> 2\u001b[0m \u001b[38;5;28;01mfrom\u001b[39;00m \u001b[38;5;21;01msklearn\u001b[39;00m\u001b[38;5;21;01m.\u001b[39;00m\u001b[38;5;21;01mpreprocessing\u001b[39;00m \u001b[38;5;28;01mimport\u001b[39;00m MinMaxScaler\n\u001b[0;32m      3\u001b[0m scaler \u001b[38;5;241m=\u001b[39m MinMaxScaler()\n\u001b[0;32m      4\u001b[0m \u001b[38;5;28;01mdef\u001b[39;00m \u001b[38;5;21mbubble_set_normal\u001b[39m(mx, my, number, s):\n",
      "\u001b[1;31mModuleNotFoundError\u001b[0m: No module named 'sklearn'"
     ]
    }
   ],
   "source": [
    "import matplotlib.pyplot as plt\n",
    "import numpy as np\n",
    "import warnings\n",
    "warnings.simplefilter(\"ignore\")\n",
    "import data_gen"
   ]
  },
  {
   "cell_type": "markdown",
   "id": "b878c3a9-a360-49e0-9c58-7a10110c18ab",
   "metadata": {},
   "source": [
    "## Visualize the data"
   ]
  },
  {
   "cell_type": "code",
   "execution_count": null,
   "id": "4f614412-3a2f-4431-9ce4-d8faacb197bf",
   "metadata": {},
   "outputs": [],
   "source": [
    "blob_data = data_gen.four_blobs()\n",
    "uneven_blobs = data_gen.four_blobs(100, 100, 400, 400)\n",
    "mouse_data = data_gen.mouse_shape()\n",
    "moons_data = data_gen.two_moons()\n",
    "circle_data = data_gen.circle()\n",
    "noise_data = data_gen.noise()\n",
    "plot_data = [blob_data, uneven_blobs, mouse_data, moons_data, circle_data, noise_data]\n",
    "\n",
    "fig, axes = plt.subplots(2, 3, sharex=True, sharey=True, figsize=(16, 9))\n",
    "for ax, data in zip(axes.flatten(), plot_data):\n",
    "    ax.scatter(data[:, 0], data[:, 1], color=\"#266662\", marker=\".\")\n",
    "fig.savefig(\"cluster_plots.png\", dpi=200, bbox_inches=\"tight\")"
   ]
  },
  {
   "cell_type": "markdown",
   "id": "e1d0ab82-80b7-46bf-ac44-497fc6327432",
   "metadata": {},
   "source": [
    "## kMeans"
   ]
  },
  {
   "cell_type": "markdown",
   "id": "f86b0914-4acd-44b9-a39d-0f3eb4ee551b",
   "metadata": {},
   "source": [
    "To visualize how kMeans works, each tieration is plotted individually"
   ]
  },
  {
   "cell_type": "code",
   "execution_count": null,
   "id": "ca6d9370-864c-4e95-a8b4-2946ab423f78",
   "metadata": {},
   "outputs": [],
   "source": [
    "from sklearn.cluster import KMeans"
   ]
  },
  {
   "cell_type": "code",
   "execution_count": null,
   "id": "2e92d855-0ee3-46a4-8bc3-471c08d72c90",
   "metadata": {},
   "outputs": [],
   "source": [
    "init_clusters = np.array([[0, 0], [1, 1], [0.5, 0.5], [0, 1]])\n",
    "kmeans = KMeans(n_clusters=4,\n",
    "                init=\"k-means++\",\n",
    "                n_init=1,\n",
    "                max_iter=3,\n",
    "                algorithm=\"lloyd\",\n",
    "                random_state=1)\n",
    "assignment = kmeans.fit_predict(blob_data)\n",
    "centers = kmeans.cluster_centers_\n",
    "\n",
    "\n",
    "colors = [\"#266662\", \"#9E5E9B\", \"#ED5654\", \"#B68E15\"]\n",
    "markers = [\"o\", \"x\", \"<\", \"+\"]\n",
    "plt.figure(figsize=(8,6))\n",
    "for cluster in range(kmeans.n_clusters):\n",
    "    cluster_indeces = assignment == cluster\n",
    "    plt.scatter(blob_data[cluster_indeces, 0], blob_data[cluster_indeces, 1],\n",
    "                c=colors[cluster], marker=markers[cluster], alpha=0.5)\n",
    "    \n",
    "    plt.scatter(centers[cluster, 0], centers[cluster, 1],\n",
    "               c=\"#0D2121\", marker=markers[cluster], s=160)\n",
    "    \n",
    "plt.savefig(\"k_means_4_it.png\", dpi=200)\n",
    "plt.show()\n"
   ]
  },
  {
   "cell_type": "markdown",
   "id": "49a8c1f2-4282-4ed7-b0fd-8fddd7bed678",
   "metadata": {},
   "source": [
    "## Evaluate Number of Clusters with Silhouette Analysis"
   ]
  },
  {
   "cell_type": "code",
   "execution_count": null,
   "id": "ffecde7d-474e-4480-9e9d-477a91feb8f7",
   "metadata": {},
   "outputs": [],
   "source": [
    "import matplotlib.cm as cm\n",
    "from sklearn.metrics import silhouette_samples, silhouette_score\n",
    "from sklearn.datasets import make_blobs\n",
    "np.random.seed(seed=1)\n",
    "centers = np.random.randint(low=3, high=10)\n",
    "\n",
    "data, y = make_blobs(\n",
    "    n_samples=500,\n",
    "    n_features=2,\n",
    "    centers=centers,\n",
    "    cluster_std=1.5,\n",
    "    center_box=(-10.0, 10.0),\n",
    "    shuffle=True,\n",
    "    random_state=1,\n",
    ")\n",
    "\n",
    "n_clusters = 2\n",
    "fig, (ax1, ax2) = plt.subplots(1, 2)\n",
    "ax1.set_xlim([-0.1, 1])\n",
    "ax1.set_ylim([0, len(data) + (n_clusters + 1) * 10])\n",
    "\n",
    "kmeans = KMeans(n_clusters=n_clusters, random_state=10)\n",
    "assignment = kmeans.fit_predict(data)\n",
    "\n",
    "silhouette_avg = silhouette_score(data, assignment)\n",
    "print(\"For n_clusters =\", n_clusters, \"The average silhouette_score is :\", silhouette_avg)\n",
    "\n",
    "sample_silhouette_values = silhouette_samples(data, assignment)\n",
    "print(sample_silhouette_values.shape)\n",
    "\n",
    "y_lower = 10\n",
    "for i in range(n_clusters):\n",
    "\n",
    "    ith_cluster_silhouette_values = sample_silhouette_values[assignment == i]\n",
    "    ith_cluster_silhouette_values.sort()\n",
    "\n",
    "    size_cluster_i = ith_cluster_silhouette_values.shape[0]\n",
    "    y_upper = y_lower + size_cluster_i\n",
    "\n",
    "    color = cm.nipy_spectral(float(i) / n_clusters)\n",
    "    ax1.fill_betweenx(\n",
    "        np.arange(y_lower, y_upper),\n",
    "        0,\n",
    "        ith_cluster_silhouette_values,\n",
    "        facecolor=color,\n",
    "        edgecolor=color,\n",
    "        alpha=0.7,\n",
    "    )\n",
    "\n",
    "    # Label the silhouette plots with their cluster numbers at the middle\n",
    "    ax1.text(-0.05, y_lower + 0.5 * size_cluster_i, str(i))\n",
    "    \n",
    "    # Compute the new y_lower for next plot\n",
    "    y_lower = y_upper + 10  # 10 for the 0 samples\n",
    "    \n",
    "ax1.set_title(\"The silhouette plot for the various clusters.\")\n",
    "ax1.set_xlabel(\"The silhouette coefficient values\")\n",
    "ax1.set_ylabel(\"Cluster label\")\n",
    "\n",
    "ax1.axvline(x=silhouette_avg, color=\"red\", linestyle=\"--\")\n",
    "\n",
    "ax1.set_yticks([])  # Clear the yaxis labels / ticks\n",
    "ax1.set_xticks([-0.1, 0, 0.2, 0.4, 0.6, 0.8, 1])\n",
    "\n",
    "colors = cm.nipy_spectral(assignment.astype(float) / n_clusters)\n",
    "ax2.scatter(\n",
    "    data[:, 0], data[:, 1], marker=\".\", s=30, lw=0, alpha=0.7, c=colors, edgecolor=\"k\"\n",
    ")\n",
    "plt.show()"
   ]
  },
  {
   "cell_type": "markdown",
   "id": "d7d3babc-3a13-4319-b560-9d4590501a83",
   "metadata": {},
   "source": [
    "### kMeans Clustering Characteristics"
   ]
  },
  {
   "cell_type": "code",
   "execution_count": null,
   "id": "b37da208-354f-4871-84d7-ffd9246850a1",
   "metadata": {},
   "outputs": [],
   "source": [
    "warnings.simplefilter(\"ignore\")\n",
    "\n",
    "fig, axes = plt.subplots(2, 3, sharex=True, sharey=True, figsize=(16, 9))\n",
    "n_clusters = [4, 4, 3, 2, 2, 2]\n",
    "index = 0\n",
    "for ax, data in zip(axes.flatten(), plot_data):\n",
    "    kmeans = KMeans(n_clusters=n_clusters[index])\n",
    "    assignment = kmeans.fit_predict(data)\n",
    "    centers = kmeans.cluster_centers_\n",
    "    index += 1\n",
    "    for cluster in range(kmeans.n_clusters):\n",
    "        cluster_indeces = assignment == cluster\n",
    "        ax.scatter(data[cluster_indeces, 0], data[cluster_indeces, 1],\n",
    "                    c=colors[cluster], marker=markers[cluster], alpha=0.5)\n",
    "\n",
    "        ax.scatter(centers[cluster, 0], centers[cluster, 1],\n",
    "                   c=\"#0D2121\", marker=markers[cluster], s=160)\n",
    "\n",
    "fig.savefig(\"kmeans_all_datasets.png\", dpi=200, bbox_inches=\"tight\")"
   ]
  },
  {
   "cell_type": "code",
   "execution_count": null,
   "id": "a2973e3a-0f0e-4a19-b417-5508c00d29e1",
   "metadata": {},
   "outputs": [],
   "source": []
  }
 ],
 "metadata": {
  "kernelspec": {
   "display_name": "Python 3 (ipykernel)",
   "language": "python",
   "name": "python3"
  },
  "language_info": {
   "codemirror_mode": {
    "name": "ipython",
    "version": 3
   },
   "file_extension": ".py",
   "mimetype": "text/x-python",
   "name": "python",
   "nbconvert_exporter": "python",
   "pygments_lexer": "ipython3",
   "version": "3.12.2"
  }
 },
 "nbformat": 4,
 "nbformat_minor": 5
}
